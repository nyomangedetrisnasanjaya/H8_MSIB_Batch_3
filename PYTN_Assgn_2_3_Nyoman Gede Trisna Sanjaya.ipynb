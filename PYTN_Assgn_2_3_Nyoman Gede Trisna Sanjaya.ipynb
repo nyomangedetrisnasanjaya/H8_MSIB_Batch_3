{
 "cells": [
  {
   "cell_type": "markdown",
   "id": "ebc8804a",
   "metadata": {},
   "source": [
    "# Analisis Penjualan Properti di NYC"
   ]
  },
  {
   "cell_type": "code",
   "execution_count": 1,
   "id": "8cd89b32",
   "metadata": {},
   "outputs": [],
   "source": [
    "import math\n",
    "import statistics\n",
    "import numpy as np\n",
    "import scipy.stats\n",
    "import pandas as pd\n",
    "\n",
    "# for inline plots in jupyter\n",
    "%matplotlib inline\n",
    "# import matplotlib\n",
    "import matplotlib.pyplot as plt\n",
    "# for latex equations\n",
    "from IPython.display import Math, Latex\n",
    "# for displaying images\n",
    "from IPython.core.display import Image\n",
    "\n",
    "# import seaborn\n",
    "import seaborn as sns\n",
    "# settings for seaborn plotting style\n",
    "sns.set(color_codes=True)\n",
    "# settings for seaborn plot sizes\n",
    "sns.set(rc={'figure.figsize':(5,5)})"
   ]
  },
  {
   "cell_type": "markdown",
   "id": "9d36002b",
   "metadata": {},
   "source": [
    "### Q : Bagaimana Penjualan Properti di NYC"
   ]
  },
  {
   "cell_type": "code",
   "execution_count": 2,
   "id": "c25dd147",
   "metadata": {},
   "outputs": [],
   "source": [
    "#Dataset : NYC Property Sales\n",
    "#this dataset is a record of every building or building unit (apartment, etc.) sold in the New York City property market over a 12-month period.\n",
    "\n",
    "#This dataset contains the location, address, type, sale price, and sale date of building units sold. A reference on the trickier fields:\n",
    "# BOROUGH: A digit code for the borough the property is located in; in order these are Manhattan (1), Bronx (2), Brooklyn (3), Queens (4), and Staten Island (5).\n",
    "# BLOCK; LOT: The combination of borough, block, and lot forms a unique key for property in New York City. Commonly called a BBL.\n",
    "# BUILDING CLASS AT PRESENT and BUILDING CLASS AT TIME OF SALE: The type of building at various points in time.\n",
    "\n",
    "#Note that because this is a financial transaction dataset, there are some points that need to be kept in mind:\n",
    "# Many sales occur with a nonsensically small dollar amount: $0 most commonly. These sales are actually transfers of deeds between parties: for example, parents transferring ownership to their home to a child after moving out for retirement.\n",
    "# This dataset uses the financial definition of a building/building unit, for tax purposes. In case a single entity owns the building in question, a sale covers the value of the entire building. In case a building is owned piecemeal by its residents (a condominium), a sale refers to a single apartment (or group of apartments) owned by some individual."
   ]
  },
  {
   "cell_type": "markdown",
   "id": "a7d7b6e5",
   "metadata": {},
   "source": [
    "#### Import Data"
   ]
  },
  {
   "cell_type": "code",
   "execution_count": 3,
   "id": "070c7674",
   "metadata": {},
   "outputs": [
    {
     "data": {
      "text/html": [
       "<div>\n",
       "<style scoped>\n",
       "    .dataframe tbody tr th:only-of-type {\n",
       "        vertical-align: middle;\n",
       "    }\n",
       "\n",
       "    .dataframe tbody tr th {\n",
       "        vertical-align: top;\n",
       "    }\n",
       "\n",
       "    .dataframe thead th {\n",
       "        text-align: right;\n",
       "    }\n",
       "</style>\n",
       "<table border=\"1\" class=\"dataframe\">\n",
       "  <thead>\n",
       "    <tr style=\"text-align: right;\">\n",
       "      <th></th>\n",
       "      <th>Unnamed: 0</th>\n",
       "      <th>BOROUGH</th>\n",
       "      <th>NEIGHBORHOOD</th>\n",
       "      <th>BUILDING CLASS CATEGORY</th>\n",
       "      <th>TAX CLASS AT PRESENT</th>\n",
       "      <th>BLOCK</th>\n",
       "      <th>LOT</th>\n",
       "      <th>EASE-MENT</th>\n",
       "      <th>BUILDING CLASS AT PRESENT</th>\n",
       "      <th>ADDRESS</th>\n",
       "      <th>...</th>\n",
       "      <th>RESIDENTIAL UNITS</th>\n",
       "      <th>COMMERCIAL UNITS</th>\n",
       "      <th>TOTAL UNITS</th>\n",
       "      <th>LAND SQUARE FEET</th>\n",
       "      <th>GROSS SQUARE FEET</th>\n",
       "      <th>YEAR BUILT</th>\n",
       "      <th>TAX CLASS AT TIME OF SALE</th>\n",
       "      <th>BUILDING CLASS AT TIME OF SALE</th>\n",
       "      <th>SALE PRICE</th>\n",
       "      <th>SALE DATE</th>\n",
       "    </tr>\n",
       "  </thead>\n",
       "  <tbody>\n",
       "    <tr>\n",
       "      <th>0</th>\n",
       "      <td>4</td>\n",
       "      <td>1</td>\n",
       "      <td>ALPHABET CITY</td>\n",
       "      <td>07 RENTALS - WALKUP APARTMENTS</td>\n",
       "      <td>2A</td>\n",
       "      <td>392</td>\n",
       "      <td>6</td>\n",
       "      <td></td>\n",
       "      <td>C2</td>\n",
       "      <td>153 AVENUE B</td>\n",
       "      <td>...</td>\n",
       "      <td>5</td>\n",
       "      <td>0</td>\n",
       "      <td>5</td>\n",
       "      <td>1633</td>\n",
       "      <td>6440</td>\n",
       "      <td>1900</td>\n",
       "      <td>2</td>\n",
       "      <td>C2</td>\n",
       "      <td>6625000</td>\n",
       "      <td>2017-07-19 00:00:00</td>\n",
       "    </tr>\n",
       "    <tr>\n",
       "      <th>1</th>\n",
       "      <td>5</td>\n",
       "      <td>1</td>\n",
       "      <td>ALPHABET CITY</td>\n",
       "      <td>07 RENTALS - WALKUP APARTMENTS</td>\n",
       "      <td>2</td>\n",
       "      <td>399</td>\n",
       "      <td>26</td>\n",
       "      <td></td>\n",
       "      <td>C7</td>\n",
       "      <td>234 EAST 4TH   STREET</td>\n",
       "      <td>...</td>\n",
       "      <td>28</td>\n",
       "      <td>3</td>\n",
       "      <td>31</td>\n",
       "      <td>4616</td>\n",
       "      <td>18690</td>\n",
       "      <td>1900</td>\n",
       "      <td>2</td>\n",
       "      <td>C7</td>\n",
       "      <td>-</td>\n",
       "      <td>2016-12-14 00:00:00</td>\n",
       "    </tr>\n",
       "    <tr>\n",
       "      <th>2</th>\n",
       "      <td>6</td>\n",
       "      <td>1</td>\n",
       "      <td>ALPHABET CITY</td>\n",
       "      <td>07 RENTALS - WALKUP APARTMENTS</td>\n",
       "      <td>2</td>\n",
       "      <td>399</td>\n",
       "      <td>39</td>\n",
       "      <td></td>\n",
       "      <td>C7</td>\n",
       "      <td>197 EAST 3RD   STREET</td>\n",
       "      <td>...</td>\n",
       "      <td>16</td>\n",
       "      <td>1</td>\n",
       "      <td>17</td>\n",
       "      <td>2212</td>\n",
       "      <td>7803</td>\n",
       "      <td>1900</td>\n",
       "      <td>2</td>\n",
       "      <td>C7</td>\n",
       "      <td>-</td>\n",
       "      <td>2016-12-09 00:00:00</td>\n",
       "    </tr>\n",
       "    <tr>\n",
       "      <th>3</th>\n",
       "      <td>7</td>\n",
       "      <td>1</td>\n",
       "      <td>ALPHABET CITY</td>\n",
       "      <td>07 RENTALS - WALKUP APARTMENTS</td>\n",
       "      <td>2B</td>\n",
       "      <td>402</td>\n",
       "      <td>21</td>\n",
       "      <td></td>\n",
       "      <td>C4</td>\n",
       "      <td>154 EAST 7TH STREET</td>\n",
       "      <td>...</td>\n",
       "      <td>10</td>\n",
       "      <td>0</td>\n",
       "      <td>10</td>\n",
       "      <td>2272</td>\n",
       "      <td>6794</td>\n",
       "      <td>1913</td>\n",
       "      <td>2</td>\n",
       "      <td>C4</td>\n",
       "      <td>3936272</td>\n",
       "      <td>2016-09-23 00:00:00</td>\n",
       "    </tr>\n",
       "    <tr>\n",
       "      <th>4</th>\n",
       "      <td>8</td>\n",
       "      <td>1</td>\n",
       "      <td>ALPHABET CITY</td>\n",
       "      <td>07 RENTALS - WALKUP APARTMENTS</td>\n",
       "      <td>2A</td>\n",
       "      <td>404</td>\n",
       "      <td>55</td>\n",
       "      <td></td>\n",
       "      <td>C2</td>\n",
       "      <td>301 EAST 10TH   STREET</td>\n",
       "      <td>...</td>\n",
       "      <td>6</td>\n",
       "      <td>0</td>\n",
       "      <td>6</td>\n",
       "      <td>2369</td>\n",
       "      <td>4615</td>\n",
       "      <td>1900</td>\n",
       "      <td>2</td>\n",
       "      <td>C2</td>\n",
       "      <td>8000000</td>\n",
       "      <td>2016-11-17 00:00:00</td>\n",
       "    </tr>\n",
       "  </tbody>\n",
       "</table>\n",
       "<p>5 rows × 22 columns</p>\n",
       "</div>"
      ],
      "text/plain": [
       "   Unnamed: 0  BOROUGH   NEIGHBORHOOD  \\\n",
       "0           4        1  ALPHABET CITY   \n",
       "1           5        1  ALPHABET CITY   \n",
       "2           6        1  ALPHABET CITY   \n",
       "3           7        1  ALPHABET CITY   \n",
       "4           8        1  ALPHABET CITY   \n",
       "\n",
       "                       BUILDING CLASS CATEGORY TAX CLASS AT PRESENT  BLOCK  \\\n",
       "0  07 RENTALS - WALKUP APARTMENTS                                2A    392   \n",
       "1  07 RENTALS - WALKUP APARTMENTS                                 2    399   \n",
       "2  07 RENTALS - WALKUP APARTMENTS                                 2    399   \n",
       "3  07 RENTALS - WALKUP APARTMENTS                                2B    402   \n",
       "4  07 RENTALS - WALKUP APARTMENTS                                2A    404   \n",
       "\n",
       "   LOT EASE-MENT BUILDING CLASS AT PRESENT                 ADDRESS  ...  \\\n",
       "0    6                                  C2            153 AVENUE B  ...   \n",
       "1   26                                  C7   234 EAST 4TH   STREET  ...   \n",
       "2   39                                  C7   197 EAST 3RD   STREET  ...   \n",
       "3   21                                  C4     154 EAST 7TH STREET  ...   \n",
       "4   55                                  C2  301 EAST 10TH   STREET  ...   \n",
       "\n",
       "  RESIDENTIAL UNITS  COMMERCIAL UNITS  TOTAL UNITS  LAND SQUARE FEET  \\\n",
       "0                 5                 0            5              1633   \n",
       "1                28                 3           31              4616   \n",
       "2                16                 1           17              2212   \n",
       "3                10                 0           10              2272   \n",
       "4                 6                 0            6              2369   \n",
       "\n",
       "   GROSS SQUARE FEET YEAR BUILT TAX CLASS AT TIME OF SALE  \\\n",
       "0               6440       1900                         2   \n",
       "1              18690       1900                         2   \n",
       "2               7803       1900                         2   \n",
       "3               6794       1913                         2   \n",
       "4               4615       1900                         2   \n",
       "\n",
       "   BUILDING CLASS AT TIME OF SALE  SALE PRICE            SALE DATE  \n",
       "0                              C2     6625000  2017-07-19 00:00:00  \n",
       "1                              C7         -    2016-12-14 00:00:00  \n",
       "2                              C7         -    2016-12-09 00:00:00  \n",
       "3                              C4     3936272  2016-09-23 00:00:00  \n",
       "4                              C2     8000000  2016-11-17 00:00:00  \n",
       "\n",
       "[5 rows x 22 columns]"
      ]
     },
     "execution_count": 3,
     "metadata": {},
     "output_type": "execute_result"
    }
   ],
   "source": [
    "df = pd.read_csv('nyc-rolling-sales.csv')\n",
    "df.head()"
   ]
  },
  {
   "cell_type": "markdown",
   "id": "b183c30d",
   "metadata": {},
   "source": [
    "#### Data Type & Treatment"
   ]
  },
  {
   "cell_type": "code",
   "execution_count": 4,
   "id": "40bc8c7c",
   "metadata": {},
   "outputs": [
    {
     "name": "stdout",
     "output_type": "stream",
     "text": [
      "<class 'pandas.core.frame.DataFrame'>\n",
      "RangeIndex: 84548 entries, 0 to 84547\n",
      "Data columns (total 22 columns):\n",
      " #   Column                          Non-Null Count  Dtype \n",
      "---  ------                          --------------  ----- \n",
      " 0   Unnamed: 0                      84548 non-null  int64 \n",
      " 1   BOROUGH                         84548 non-null  int64 \n",
      " 2   NEIGHBORHOOD                    84548 non-null  object\n",
      " 3   BUILDING CLASS CATEGORY         84548 non-null  object\n",
      " 4   TAX CLASS AT PRESENT            84548 non-null  object\n",
      " 5   BLOCK                           84548 non-null  int64 \n",
      " 6   LOT                             84548 non-null  int64 \n",
      " 7   EASE-MENT                       84548 non-null  object\n",
      " 8   BUILDING CLASS AT PRESENT       84548 non-null  object\n",
      " 9   ADDRESS                         84548 non-null  object\n",
      " 10  APARTMENT NUMBER                84548 non-null  object\n",
      " 11  ZIP CODE                        84548 non-null  int64 \n",
      " 12  RESIDENTIAL UNITS               84548 non-null  int64 \n",
      " 13  COMMERCIAL UNITS                84548 non-null  int64 \n",
      " 14  TOTAL UNITS                     84548 non-null  int64 \n",
      " 15  LAND SQUARE FEET                84548 non-null  object\n",
      " 16  GROSS SQUARE FEET               84548 non-null  object\n",
      " 17  YEAR BUILT                      84548 non-null  int64 \n",
      " 18  TAX CLASS AT TIME OF SALE       84548 non-null  int64 \n",
      " 19  BUILDING CLASS AT TIME OF SALE  84548 non-null  object\n",
      " 20  SALE PRICE                      84548 non-null  object\n",
      " 21  SALE DATE                       84548 non-null  object\n",
      "dtypes: int64(10), object(12)\n",
      "memory usage: 14.2+ MB\n"
     ]
    }
   ],
   "source": [
    "df.info()"
   ]
  },
  {
   "cell_type": "code",
   "execution_count": 5,
   "id": "f9a69a28",
   "metadata": {},
   "outputs": [],
   "source": [
    "#Tipe data : Date\n",
    "df['SALE DATE']= pd.to_datetime(df['SALE DATE'], errors='coerce')"
   ]
  },
  {
   "cell_type": "code",
   "execution_count": 6,
   "id": "520d4991",
   "metadata": {},
   "outputs": [],
   "source": [
    "#Tipe data : Numeric\n",
    "numeric = [\"RESIDENTIAL UNITS\",\"COMMERCIAL UNITS\",\"TOTAL UNITS\", \"LAND SQUARE FEET\" , \"GROSS SQUARE FEET\",\"SALE PRICE\" ]\n",
    "\n",
    "for col in numeric: \n",
    "    df[col] = pd.to_numeric(df[col], errors='coerce') # coercing errors to NAs"
   ]
  },
  {
   "cell_type": "code",
   "execution_count": 7,
   "id": "5df110fd",
   "metadata": {},
   "outputs": [],
   "source": [
    "# Tipe data : Kategorik\n",
    "categorical = [\"BOROUGH\",\"NEIGHBORHOOD\",'BUILDING CLASS CATEGORY', 'TAX CLASS AT PRESENT', 'BUILDING CLASS AT PRESENT','ZIP CODE', 'YEAR BUILT', 'BUILDING CLASS AT TIME OF SALE', 'TAX CLASS AT TIME OF SALE']\n",
    "\n",
    "for col in categorical: \n",
    "    df[col] = df[col].astype(\"category\")"
   ]
  },
  {
   "cell_type": "code",
   "execution_count": 8,
   "id": "85703e02",
   "metadata": {},
   "outputs": [
    {
     "name": "stdout",
     "output_type": "stream",
     "text": [
      "<class 'pandas.core.frame.DataFrame'>\n",
      "RangeIndex: 84548 entries, 0 to 84547\n",
      "Data columns (total 22 columns):\n",
      " #   Column                          Non-Null Count  Dtype         \n",
      "---  ------                          --------------  -----         \n",
      " 0   Unnamed: 0                      84548 non-null  int64         \n",
      " 1   BOROUGH                         84548 non-null  category      \n",
      " 2   NEIGHBORHOOD                    84548 non-null  category      \n",
      " 3   BUILDING CLASS CATEGORY         84548 non-null  category      \n",
      " 4   TAX CLASS AT PRESENT            84548 non-null  category      \n",
      " 5   BLOCK                           84548 non-null  int64         \n",
      " 6   LOT                             84548 non-null  int64         \n",
      " 7   EASE-MENT                       84548 non-null  object        \n",
      " 8   BUILDING CLASS AT PRESENT       84548 non-null  category      \n",
      " 9   ADDRESS                         84548 non-null  object        \n",
      " 10  APARTMENT NUMBER                84548 non-null  object        \n",
      " 11  ZIP CODE                        84548 non-null  category      \n",
      " 12  RESIDENTIAL UNITS               84548 non-null  int64         \n",
      " 13  COMMERCIAL UNITS                84548 non-null  int64         \n",
      " 14  TOTAL UNITS                     84548 non-null  int64         \n",
      " 15  LAND SQUARE FEET                58296 non-null  float64       \n",
      " 16  GROSS SQUARE FEET               56936 non-null  float64       \n",
      " 17  YEAR BUILT                      84548 non-null  category      \n",
      " 18  TAX CLASS AT TIME OF SALE       84548 non-null  category      \n",
      " 19  BUILDING CLASS AT TIME OF SALE  84548 non-null  category      \n",
      " 20  SALE PRICE                      69987 non-null  float64       \n",
      " 21  SALE DATE                       84548 non-null  datetime64[ns]\n",
      "dtypes: category(9), datetime64[ns](1), float64(3), int64(6), object(3)\n",
      "memory usage: 9.5+ MB\n"
     ]
    }
   ],
   "source": [
    "df.info()"
   ]
  },
  {
   "cell_type": "markdown",
   "id": "b6e244aa",
   "metadata": {},
   "source": [
    "#### Null Checking & Treatment"
   ]
  },
  {
   "cell_type": "code",
   "execution_count": 9,
   "id": "68a61297",
   "metadata": {
    "scrolled": true
   },
   "outputs": [
    {
     "data": {
      "text/plain": [
       "Unnamed: 0                            0\n",
       "BOROUGH                               0\n",
       "NEIGHBORHOOD                          0\n",
       "BUILDING CLASS CATEGORY               0\n",
       "TAX CLASS AT PRESENT                738\n",
       "BLOCK                                 0\n",
       "LOT                                   0\n",
       "EASE-MENT                         84548\n",
       "BUILDING CLASS AT PRESENT           738\n",
       "ADDRESS                               0\n",
       "APARTMENT NUMBER                  65496\n",
       "ZIP CODE                              0\n",
       "RESIDENTIAL UNITS                     0\n",
       "COMMERCIAL UNITS                      0\n",
       "TOTAL UNITS                           0\n",
       "LAND SQUARE FEET                  26252\n",
       "GROSS SQUARE FEET                 27612\n",
       "YEAR BUILT                            0\n",
       "TAX CLASS AT TIME OF SALE             0\n",
       "BUILDING CLASS AT TIME OF SALE        0\n",
       "SALE PRICE                        14561\n",
       "SALE DATE                             0\n",
       "dtype: int64"
      ]
     },
     "execution_count": 9,
     "metadata": {},
     "output_type": "execute_result"
    }
   ],
   "source": [
    "df.replace(' ',np.nan, inplace=True)\n",
    "df.isna().sum()"
   ]
  },
  {
   "cell_type": "code",
   "execution_count": 10,
   "id": "5ab57178",
   "metadata": {},
   "outputs": [],
   "source": [
    "df.drop(['Unnamed: 0','EASE-MENT','APARTMENT NUMBER','TAX CLASS AT PRESENT','BUILDING CLASS AT PRESENT'], axis=1, inplace=True)"
   ]
  },
  {
   "cell_type": "markdown",
   "id": "e7b83f54",
   "metadata": {},
   "source": [
    "#### Skewness"
   ]
  },
  {
   "cell_type": "code",
   "execution_count": 11,
   "id": "2c1f0ce6",
   "metadata": {},
   "outputs": [
    {
     "name": "stderr",
     "output_type": "stream",
     "text": [
      "C:\\Users\\W I N D O W S\\anaconda3\\lib\\site-packages\\seaborn\\distributions.py:2557: FutureWarning: `distplot` is a deprecated function and will be removed in a future version. Please adapt your code to use either `displot` (a figure-level function with similar flexibility) or `histplot` (an axes-level function for histograms).\n",
      "  warnings.warn(msg, FutureWarning)\n"
     ]
    },
    {
     "data": {
      "text/plain": [
       "[Text(0.5, 0, 'Exponential Distribution'), Text(0, 0.5, 'Frequency')]"
      ]
     },
     "execution_count": 11,
     "metadata": {},
     "output_type": "execute_result"
    },
    {
     "data": {
      "image/png": "[encoded data removed]",
      "text/plain": [
       "<Figure size 360x360 with 1 Axes>"
      ]
     },
     "metadata": {},
     "output_type": "display_data"
    }
   ],
   "source": [
    "ax = sns.distplot(df[['SALE PRICE','LAND SQUARE FEET','GROSS SQUARE FEET']],\n",
    "                  kde=True,\n",
    "                  hist_kws={\"linewidth\": 15,'alpha':1})\n",
    "ax.set(xlabel='Exponential Distribution', ylabel='Frequency')"
   ]
  },
  {
   "cell_type": "code",
   "execution_count": 46,
   "id": "5e1e92e6",
   "metadata": {},
   "outputs": [
    {
     "name": "stdout",
     "output_type": "stream",
     "text": [
      "136.27960105575627\n",
      "88.30675136968777\n",
      "72.59066338090749\n"
     ]
    }
   ],
   "source": [
    "#skewness\n",
    "print(scipy.stats.skew(df['SALE PRICE'], bias=False))\n",
    "print(scipy.stats.skew(df['LAND SQUARE FEET'], bias=False))\n",
    "print(scipy.stats.skew(df['GROSS SQUARE FEET'], bias=False))"
   ]
  },
  {
   "cell_type": "code",
   "execution_count": 12,
   "id": "2cec48a9",
   "metadata": {},
   "outputs": [],
   "source": [
    "#Dikarenakan skewness positif saya memakai median sebagai pengganti missing value:\n",
    "median_sale = df['SALE PRICE'].median()\n",
    "df['SALE PRICE'].fillna(median_sale, inplace=True)\n",
    "\n",
    "median_land = df['LAND SQUARE FEET'].median()\n",
    "df['LAND SQUARE FEET'].fillna(median_land, inplace=True)\n",
    "\n",
    "median_gross = df['GROSS SQUARE FEET'].median()\n",
    "df['GROSS SQUARE FEET'].fillna(median_gross, inplace=True)"
   ]
  },
  {
   "cell_type": "code",
   "execution_count": 13,
   "id": "dc649657",
   "metadata": {},
   "outputs": [
    {
     "data": {
      "text/plain": [
       "BOROUGH                           0\n",
       "NEIGHBORHOOD                      0\n",
       "BUILDING CLASS CATEGORY           0\n",
       "BLOCK                             0\n",
       "LOT                               0\n",
       "ADDRESS                           0\n",
       "ZIP CODE                          0\n",
       "RESIDENTIAL UNITS                 0\n",
       "COMMERCIAL UNITS                  0\n",
       "TOTAL UNITS                       0\n",
       "LAND SQUARE FEET                  0\n",
       "GROSS SQUARE FEET                 0\n",
       "YEAR BUILT                        0\n",
       "TAX CLASS AT TIME OF SALE         0\n",
       "BUILDING CLASS AT TIME OF SALE    0\n",
       "SALE PRICE                        0\n",
       "SALE DATE                         0\n",
       "dtype: int64"
      ]
     },
     "execution_count": 13,
     "metadata": {},
     "output_type": "execute_result"
    }
   ],
   "source": [
    "df.isna().sum()"
   ]
  },
  {
   "cell_type": "markdown",
   "id": "b501285b",
   "metadata": {},
   "source": [
    "### Measure of Central Tendency"
   ]
  },
  {
   "cell_type": "code",
   "execution_count": 24,
   "id": "40573f9f",
   "metadata": {},
   "outputs": [
    {
     "data": {
      "text/html": [
       "<div>\n",
       "<style scoped>\n",
       "    .dataframe tbody tr th:only-of-type {\n",
       "        vertical-align: middle;\n",
       "    }\n",
       "\n",
       "    .dataframe tbody tr th {\n",
       "        vertical-align: top;\n",
       "    }\n",
       "\n",
       "    .dataframe thead th {\n",
       "        text-align: right;\n",
       "    }\n",
       "</style>\n",
       "<table border=\"1\" class=\"dataframe\">\n",
       "  <thead>\n",
       "    <tr style=\"text-align: right;\">\n",
       "      <th></th>\n",
       "      <th>BOROUGH</th>\n",
       "      <th>NEIGHBORHOOD</th>\n",
       "      <th>BUILDING CLASS CATEGORY</th>\n",
       "      <th>BLOCK</th>\n",
       "      <th>LOT</th>\n",
       "      <th>ADDRESS</th>\n",
       "      <th>ZIP CODE</th>\n",
       "      <th>RESIDENTIAL UNITS</th>\n",
       "      <th>COMMERCIAL UNITS</th>\n",
       "      <th>TOTAL UNITS</th>\n",
       "      <th>LAND SQUARE FEET</th>\n",
       "      <th>GROSS SQUARE FEET</th>\n",
       "      <th>YEAR BUILT</th>\n",
       "      <th>TAX CLASS AT TIME OF SALE</th>\n",
       "      <th>BUILDING CLASS AT TIME OF SALE</th>\n",
       "      <th>SALE PRICE</th>\n",
       "      <th>SALE DATE</th>\n",
       "    </tr>\n",
       "  </thead>\n",
       "  <tbody>\n",
       "    <tr>\n",
       "      <th>0</th>\n",
       "      <td>1</td>\n",
       "      <td>ALPHABET CITY</td>\n",
       "      <td>07 RENTALS - WALKUP APARTMENTS</td>\n",
       "      <td>392</td>\n",
       "      <td>6</td>\n",
       "      <td>153 AVENUE B</td>\n",
       "      <td>10009</td>\n",
       "      <td>5</td>\n",
       "      <td>0</td>\n",
       "      <td>5</td>\n",
       "      <td>1633.0</td>\n",
       "      <td>6440.0</td>\n",
       "      <td>1900</td>\n",
       "      <td>2</td>\n",
       "      <td>C2</td>\n",
       "      <td>6625000.0</td>\n",
       "      <td>2017-07-19</td>\n",
       "    </tr>\n",
       "    <tr>\n",
       "      <th>1</th>\n",
       "      <td>1</td>\n",
       "      <td>ALPHABET CITY</td>\n",
       "      <td>07 RENTALS - WALKUP APARTMENTS</td>\n",
       "      <td>399</td>\n",
       "      <td>26</td>\n",
       "      <td>234 EAST 4TH   STREET</td>\n",
       "      <td>10009</td>\n",
       "      <td>28</td>\n",
       "      <td>3</td>\n",
       "      <td>31</td>\n",
       "      <td>4616.0</td>\n",
       "      <td>18690.0</td>\n",
       "      <td>1900</td>\n",
       "      <td>2</td>\n",
       "      <td>C7</td>\n",
       "      <td>530000.0</td>\n",
       "      <td>2016-12-14</td>\n",
       "    </tr>\n",
       "    <tr>\n",
       "      <th>2</th>\n",
       "      <td>1</td>\n",
       "      <td>ALPHABET CITY</td>\n",
       "      <td>07 RENTALS - WALKUP APARTMENTS</td>\n",
       "      <td>399</td>\n",
       "      <td>39</td>\n",
       "      <td>197 EAST 3RD   STREET</td>\n",
       "      <td>10009</td>\n",
       "      <td>16</td>\n",
       "      <td>1</td>\n",
       "      <td>17</td>\n",
       "      <td>2212.0</td>\n",
       "      <td>7803.0</td>\n",
       "      <td>1900</td>\n",
       "      <td>2</td>\n",
       "      <td>C7</td>\n",
       "      <td>530000.0</td>\n",
       "      <td>2016-12-09</td>\n",
       "    </tr>\n",
       "    <tr>\n",
       "      <th>3</th>\n",
       "      <td>1</td>\n",
       "      <td>ALPHABET CITY</td>\n",
       "      <td>07 RENTALS - WALKUP APARTMENTS</td>\n",
       "      <td>402</td>\n",
       "      <td>21</td>\n",
       "      <td>154 EAST 7TH STREET</td>\n",
       "      <td>10009</td>\n",
       "      <td>10</td>\n",
       "      <td>0</td>\n",
       "      <td>10</td>\n",
       "      <td>2272.0</td>\n",
       "      <td>6794.0</td>\n",
       "      <td>1913</td>\n",
       "      <td>2</td>\n",
       "      <td>C4</td>\n",
       "      <td>3936272.0</td>\n",
       "      <td>2016-09-23</td>\n",
       "    </tr>\n",
       "    <tr>\n",
       "      <th>4</th>\n",
       "      <td>1</td>\n",
       "      <td>ALPHABET CITY</td>\n",
       "      <td>07 RENTALS - WALKUP APARTMENTS</td>\n",
       "      <td>404</td>\n",
       "      <td>55</td>\n",
       "      <td>301 EAST 10TH   STREET</td>\n",
       "      <td>10009</td>\n",
       "      <td>6</td>\n",
       "      <td>0</td>\n",
       "      <td>6</td>\n",
       "      <td>2369.0</td>\n",
       "      <td>4615.0</td>\n",
       "      <td>1900</td>\n",
       "      <td>2</td>\n",
       "      <td>C2</td>\n",
       "      <td>8000000.0</td>\n",
       "      <td>2016-11-17</td>\n",
       "    </tr>\n",
       "  </tbody>\n",
       "</table>\n",
       "</div>"
      ],
      "text/plain": [
       "  BOROUGH   NEIGHBORHOOD                      BUILDING CLASS CATEGORY  BLOCK  \\\n",
       "0       1  ALPHABET CITY  07 RENTALS - WALKUP APARTMENTS                 392   \n",
       "1       1  ALPHABET CITY  07 RENTALS - WALKUP APARTMENTS                 399   \n",
       "2       1  ALPHABET CITY  07 RENTALS - WALKUP APARTMENTS                 399   \n",
       "3       1  ALPHABET CITY  07 RENTALS - WALKUP APARTMENTS                 402   \n",
       "4       1  ALPHABET CITY  07 RENTALS - WALKUP APARTMENTS                 404   \n",
       "\n",
       "   LOT                 ADDRESS ZIP CODE  RESIDENTIAL UNITS  COMMERCIAL UNITS  \\\n",
       "0    6            153 AVENUE B    10009                  5                 0   \n",
       "1   26   234 EAST 4TH   STREET    10009                 28                 3   \n",
       "2   39   197 EAST 3RD   STREET    10009                 16                 1   \n",
       "3   21     154 EAST 7TH STREET    10009                 10                 0   \n",
       "4   55  301 EAST 10TH   STREET    10009                  6                 0   \n",
       "\n",
       "   TOTAL UNITS  LAND SQUARE FEET  GROSS SQUARE FEET YEAR BUILT  \\\n",
       "0            5            1633.0             6440.0       1900   \n",
       "1           31            4616.0            18690.0       1900   \n",
       "2           17            2212.0             7803.0       1900   \n",
       "3           10            2272.0             6794.0       1913   \n",
       "4            6            2369.0             4615.0       1900   \n",
       "\n",
       "  TAX CLASS AT TIME OF SALE BUILDING CLASS AT TIME OF SALE  SALE PRICE  \\\n",
       "0                         2                             C2   6625000.0   \n",
       "1                         2                             C7    530000.0   \n",
       "2                         2                             C7    530000.0   \n",
       "3                         2                             C4   3936272.0   \n",
       "4                         2                             C2   8000000.0   \n",
       "\n",
       "   SALE DATE  \n",
       "0 2017-07-19  \n",
       "1 2016-12-14  \n",
       "2 2016-12-09  \n",
       "3 2016-09-23  \n",
       "4 2016-11-17  "
      ]
     },
     "execution_count": 24,
     "metadata": {},
     "output_type": "execute_result"
    }
   ],
   "source": [
    "df.head()"
   ]
  },
  {
   "cell_type": "markdown",
   "id": "8e1cdb26",
   "metadata": {},
   "source": [
    "#### Mean"
   ]
  },
  {
   "cell_type": "code",
   "execution_count": 16,
   "id": "bb606508",
   "metadata": {},
   "outputs": [
    {
     "name": "stdout",
     "output_type": "stream",
     "text": [
      "2.249183895538629\n"
     ]
    }
   ],
   "source": [
    "mean_total = statistics.mean(df['TOTAL UNITS'])\n",
    "print(mean_total)"
   ]
  },
  {
   "cell_type": "code",
   "execution_count": 14,
   "id": "95a0053e",
   "metadata": {},
   "outputs": [
    {
     "name": "stdout",
     "output_type": "stream",
     "text": [
      "2.0252637554998345\n"
     ]
    }
   ],
   "source": [
    "mean_res = statistics.mean(df['RESIDENTIAL UNITS'])\n",
    "print(mean_res)"
   ]
  },
  {
   "cell_type": "code",
   "execution_count": 15,
   "id": "768a23e2",
   "metadata": {},
   "outputs": [
    {
     "name": "stdout",
     "output_type": "stream",
     "text": [
      "0.19355868855561337\n"
     ]
    }
   ],
   "source": [
    "mean_com = statistics.mean(df['COMMERCIAL UNITS'])\n",
    "print(mean_com)"
   ]
  },
  {
   "cell_type": "code",
   "execution_count": 45,
   "id": "b5e597a5",
   "metadata": {},
   "outputs": [
    {
     "name": "stdout",
     "output_type": "stream",
     "text": [
      "1147900.4933174055\n"
     ]
    }
   ],
   "source": [
    "mean_sale = statistics.mean(df['SALE PRICE'])\n",
    "print(mean_sale)"
   ]
  },
  {
   "cell_type": "markdown",
   "id": "3ee541c3",
   "metadata": {},
   "source": [
    "#### Median"
   ]
  },
  {
   "cell_type": "code",
   "execution_count": 25,
   "id": "3cf4a92b",
   "metadata": {},
   "outputs": [
    {
     "name": "stdout",
     "output_type": "stream",
     "text": [
      "1.0\n"
     ]
    }
   ],
   "source": [
    "median_total = statistics.median(df['TOTAL UNITS'])\n",
    "print(median_total)"
   ]
  },
  {
   "cell_type": "code",
   "execution_count": 26,
   "id": "5e7da1a2",
   "metadata": {},
   "outputs": [
    {
     "name": "stdout",
     "output_type": "stream",
     "text": [
      "1.0\n"
     ]
    }
   ],
   "source": [
    "median_res = statistics.median(df['RESIDENTIAL UNITS'])\n",
    "print(median_res)"
   ]
  },
  {
   "cell_type": "code",
   "execution_count": 28,
   "id": "59cf9e07",
   "metadata": {},
   "outputs": [
    {
     "name": "stdout",
     "output_type": "stream",
     "text": [
      "0.0\n"
     ]
    }
   ],
   "source": [
    "median_com = statistics.median(df['COMMERCIAL UNITS'])\n",
    "print(median_com)"
   ]
  },
  {
   "cell_type": "markdown",
   "id": "9563212d",
   "metadata": {},
   "source": [
    "#### Modus"
   ]
  },
  {
   "cell_type": "code",
   "execution_count": 29,
   "id": "1528ddc6",
   "metadata": {},
   "outputs": [
    {
     "name": "stdout",
     "output_type": "stream",
     "text": [
      "[4]\n",
      "[26736]\n"
     ]
    }
   ],
   "source": [
    "mode_borough = scipy.stats.mode(df['BOROUGH'])\n",
    "print(mode_borough.mode)\n",
    "print(mode_borough.count)"
   ]
  },
  {
   "cell_type": "code",
   "execution_count": 31,
   "id": "edb7b29c",
   "metadata": {},
   "outputs": [
    {
     "name": "stdout",
     "output_type": "stream",
     "text": [
      "['R4']\n",
      "[12989]\n"
     ]
    }
   ],
   "source": [
    "mode_bc = scipy.stats.mode(df['BUILDING CLASS AT TIME OF SALE'])\n",
    "print(mode_bc.mode)\n",
    "print(mode_bc.count)"
   ]
  },
  {
   "cell_type": "markdown",
   "id": "e9b2cce5",
   "metadata": {},
   "source": [
    "### Measure of Spread"
   ]
  },
  {
   "cell_type": "markdown",
   "id": "c48982a8",
   "metadata": {},
   "source": [
    "#### Range"
   ]
  },
  {
   "cell_type": "code",
   "execution_count": 38,
   "id": "ed63a21b",
   "metadata": {},
   "outputs": [
    {
     "data": {
      "text/plain": [
       "2210000000.0"
      ]
     },
     "execution_count": 38,
     "metadata": {},
     "output_type": "execute_result"
    }
   ],
   "source": [
    "np.ptp(df['SALE PRICE'])"
   ]
  },
  {
   "cell_type": "code",
   "execution_count": 39,
   "id": "6e04a6ca",
   "metadata": {},
   "outputs": [
    {
     "data": {
      "text/plain": [
       "0.0"
      ]
     },
     "execution_count": 39,
     "metadata": {},
     "output_type": "execute_result"
    }
   ],
   "source": [
    "min(df['SALE PRICE'])"
   ]
  },
  {
   "cell_type": "code",
   "execution_count": 40,
   "id": "34d12215",
   "metadata": {},
   "outputs": [
    {
     "data": {
      "text/plain": [
       "2210000000.0"
      ]
     },
     "execution_count": 40,
     "metadata": {},
     "output_type": "execute_result"
    }
   ],
   "source": [
    "max(df['SALE PRICE'])"
   ]
  },
  {
   "cell_type": "markdown",
   "id": "e8a5f5d4",
   "metadata": {},
   "source": [
    "#### Variance"
   ]
  },
  {
   "cell_type": "code",
   "execution_count": 41,
   "id": "d6db5e25",
   "metadata": {},
   "outputs": [
    {
     "data": {
      "text/plain": [
       "107756447924221.27"
      ]
     },
     "execution_count": 41,
     "metadata": {},
     "output_type": "execute_result"
    }
   ],
   "source": [
    "var_sale = statistics.variance(df['SALE PRICE'])\n",
    "var_sale"
   ]
  },
  {
   "cell_type": "markdown",
   "id": "d5a87483",
   "metadata": {},
   "source": [
    "#### Standard Deviation"
   ]
  },
  {
   "cell_type": "code",
   "execution_count": 43,
   "id": "a373b50f",
   "metadata": {},
   "outputs": [
    {
     "data": {
      "text/plain": [
       "10380580.326948069"
      ]
     },
     "execution_count": 43,
     "metadata": {},
     "output_type": "execute_result"
    }
   ],
   "source": [
    "std_sale = statistics.stdev(df['SALE PRICE'])\n",
    "std_sale"
   ]
  },
  {
   "cell_type": "markdown",
   "id": "e144c9c4",
   "metadata": {},
   "source": [
    "#### Covarian"
   ]
  },
  {
   "cell_type": "code",
   "execution_count": 47,
   "id": "607333a4",
   "metadata": {},
   "outputs": [
    {
     "data": {
      "text/plain": [
       "20307503.911892675"
      ]
     },
     "execution_count": 47,
     "metadata": {},
     "output_type": "execute_result"
    }
   ],
   "source": [
    "cov_xy = df['TOTAL UNITS'].cov(df['SALE PRICE'])\n",
    "cov_xy"
   ]
  },
  {
   "cell_type": "markdown",
   "id": "46c1a309",
   "metadata": {},
   "source": [
    "#### Correlation"
   ]
  },
  {
   "cell_type": "code",
   "execution_count": 48,
   "id": "99be35a3",
   "metadata": {},
   "outputs": [
    {
     "data": {
      "text/plain": [
       "array([[1.        , 0.10311181],\n",
       "       [0.10311181, 1.        ]])"
      ]
     },
     "execution_count": 48,
     "metadata": {},
     "output_type": "execute_result"
    }
   ],
   "source": [
    "corr_matrix = np.corrcoef(df['TOTAL UNITS'], df['SALE PRICE'])\n",
    "corr_matrix"
   ]
  },
  {
   "cell_type": "markdown",
   "id": "e85ca519",
   "metadata": {},
   "source": [
    "#### Probability Distribution"
   ]
  },
  {
   "cell_type": "code",
   "execution_count": 62,
   "id": "53a5a5b1",
   "metadata": {},
   "outputs": [
    {
     "name": "stderr",
     "output_type": "stream",
     "text": [
      "C:\\Users\\W I N D O W S\\anaconda3\\lib\\site-packages\\seaborn\\distributions.py:2557: FutureWarning: `distplot` is a deprecated function and will be removed in a future version. Please adapt your code to use either `displot` (a figure-level function with similar flexibility) or `histplot` (an axes-level function for histograms).\n",
      "  warnings.warn(msg, FutureWarning)\n"
     ]
    },
    {
     "data": {
      "text/plain": [
       "[Text(0, 0.5, 'Frequency')]"
      ]
     },
     "execution_count": 62,
     "metadata": {},
     "output_type": "execute_result"
    },
    {
     "data": {
      "image/png": "[encoded data removed]",
      "text/plain": [
       "<Figure size 360x360 with 1 Axes>"
      ]
     },
     "metadata": {},
     "output_type": "display_data"
    }
   ],
   "source": [
    "ax = sns.distplot(df['SALE PRICE'],\n",
    "                  kde=True,\n",
    "                  color='skyblue',\n",
    "                  hist_kws={\"linewidth\": 15,'alpha':1})\n",
    "ax.set(ylabel='Frequency')"
   ]
  },
  {
   "cell_type": "code",
   "execution_count": null,
   "id": "f40ef3c1",
   "metadata": {},
   "outputs": [],
   "source": [
    "#Terlihat bahwa data harga jual properti di NYC berdistribusi normal dengan positively skewness. Sehingga, ekor distribusi berada di sebelah kanan dan menunjukkan sebagian besar distribusi berada di nilai rendah. Apabila diinterpretasikan, banyaknya properti yang memiliki harga jual di bawah rata-rata menjadi lebih dari 50%. Selain itu, harga jual properti yang representatif dapat diukur dengan nilai median atau kuartil 2. Gap harga jual properti mengalami perbedaan yang signifikan antara properti yang memiliki harga jual tinggi dan properti yang memiliki harga jual rendah"
   ]
  },
  {
   "cell_type": "markdown",
   "id": "256793a8",
   "metadata": {},
   "source": [
    "#### Confidence Intervals"
   ]
  },
  {
   "cell_type": "code",
   "execution_count": 77,
   "id": "67d3e242",
   "metadata": {},
   "outputs": [],
   "source": [
    "df['BOROUGH'] = df['BOROUGH'].replace({1: 'Manhattan',2: 'Bronx', 3:'Brooklyn', 4: 'Queens', 5: 'Staten Island'})"
   ]
  },
  {
   "cell_type": "code",
   "execution_count": 79,
   "id": "92c91a6f",
   "metadata": {},
   "outputs": [],
   "source": [
    "df['TAX CLASS AT TIME OF SALE'] = df['TAX CLASS AT TIME OF SALE'].replace({1: 'Class 1',2: 'Class 2', 3:'Class 3', 4: 'Class 4'})"
   ]
  },
  {
   "cell_type": "code",
   "execution_count": 80,
   "id": "259a98b7",
   "metadata": {
    "scrolled": true
   },
   "outputs": [
    {
     "data": {
      "text/html": [
       "<div>\n",
       "<style scoped>\n",
       "    .dataframe tbody tr th:only-of-type {\n",
       "        vertical-align: middle;\n",
       "    }\n",
       "\n",
       "    .dataframe tbody tr th {\n",
       "        vertical-align: top;\n",
       "    }\n",
       "\n",
       "    .dataframe thead th {\n",
       "        text-align: right;\n",
       "    }\n",
       "</style>\n",
       "<table border=\"1\" class=\"dataframe\">\n",
       "  <thead>\n",
       "    <tr style=\"text-align: right;\">\n",
       "      <th>BOROUGH</th>\n",
       "      <th>Bronx</th>\n",
       "      <th>Brooklyn</th>\n",
       "      <th>Manhattan</th>\n",
       "      <th>Queens</th>\n",
       "      <th>Staten Island</th>\n",
       "    </tr>\n",
       "    <tr>\n",
       "      <th>TAX CLASS AT TIME OF SALE</th>\n",
       "      <th></th>\n",
       "      <th></th>\n",
       "      <th></th>\n",
       "      <th></th>\n",
       "      <th></th>\n",
       "    </tr>\n",
       "  </thead>\n",
       "  <tbody>\n",
       "    <tr>\n",
       "      <th>Class 1</th>\n",
       "      <td>4404</td>\n",
       "      <td>12665</td>\n",
       "      <td>355</td>\n",
       "      <td>16541</td>\n",
       "      <td>7568</td>\n",
       "    </tr>\n",
       "    <tr>\n",
       "      <th>Class 2</th>\n",
       "      <td>2114</td>\n",
       "      <td>9120</td>\n",
       "      <td>16581</td>\n",
       "      <td>8431</td>\n",
       "      <td>480</td>\n",
       "    </tr>\n",
       "    <tr>\n",
       "      <th>Class 3</th>\n",
       "      <td>2</td>\n",
       "      <td>0</td>\n",
       "      <td>2</td>\n",
       "      <td>0</td>\n",
       "      <td>0</td>\n",
       "    </tr>\n",
       "    <tr>\n",
       "      <th>Class 4</th>\n",
       "      <td>529</td>\n",
       "      <td>2262</td>\n",
       "      <td>1368</td>\n",
       "      <td>1764</td>\n",
       "      <td>362</td>\n",
       "    </tr>\n",
       "  </tbody>\n",
       "</table>\n",
       "</div>"
      ],
      "text/plain": [
       "BOROUGH                    Bronx  Brooklyn  Manhattan  Queens  Staten Island\n",
       "TAX CLASS AT TIME OF SALE                                                   \n",
       "Class 1                     4404     12665        355   16541           7568\n",
       "Class 2                     2114      9120      16581    8431            480\n",
       "Class 3                        2         0          2       0              0\n",
       "Class 4                      529      2262       1368    1764            362"
      ]
     },
     "execution_count": 80,
     "metadata": {},
     "output_type": "execute_result"
    }
   ],
   "source": [
    "pd.crosstab(df['TAX CLASS AT TIME OF SALE'], df['BOROUGH'])"
   ]
  },
  {
   "cell_type": "code",
   "execution_count": 81,
   "id": "f6af0f66",
   "metadata": {},
   "outputs": [
    {
     "data": {
      "text/plain": [
       "0.07504610583061427"
      ]
     },
     "execution_count": 81,
     "metadata": {},
     "output_type": "execute_result"
    }
   ],
   "source": [
    "#Sektor Bronx class 4 berjumlah 529 properti. Perhitungan proporsi:\n",
    "\n",
    "p_b4 = 529/(4404+2114+2+529)\n",
    "p_b4"
   ]
  },
  {
   "cell_type": "code",
   "execution_count": 82,
   "id": "1c5fe9ca",
   "metadata": {},
   "outputs": [
    {
     "data": {
      "text/plain": [
       "7049"
      ]
     },
     "execution_count": 82,
     "metadata": {},
     "output_type": "execute_result"
    }
   ],
   "source": [
    "#Sektor Bronx menurut Tax Class at Time of Sale:\n",
    "\n",
    "n = 4404+2114+2+529\n",
    "n"
   ]
  },
  {
   "cell_type": "code",
   "execution_count": 83,
   "id": "09ff99fb",
   "metadata": {},
   "outputs": [
    {
     "data": {
      "text/plain": [
       "0.0031380536772042267"
      ]
     },
     "execution_count": 83,
     "metadata": {},
     "output_type": "execute_result"
    }
   ],
   "source": [
    "#Perhitungan standard error:\n",
    "\n",
    "se_b = np.sqrt(p_b4 * (1 - p_b4) / n)\n",
    "se_b"
   ]
  },
  {
   "cell_type": "code",
   "execution_count": 84,
   "id": "a29d61ac",
   "metadata": {},
   "outputs": [
    {
     "data": {
      "text/plain": [
       "(0.06889552062329399, 0.08119669103793456)"
      ]
     },
     "execution_count": 84,
     "metadata": {},
     "output_type": "execute_result"
    }
   ],
   "source": [
    "#Sekarang buat CI menggunakan rumus di atas. z-score adalah 1.96 untuk confidence interval 95%.\n",
    "\n",
    "z_score = 1.96\n",
    "lcb = p_b4 - z_score* se_b #lower limit of the CI\n",
    "ucb = p_b4 + z_score* se_b #upper limit of the CI\n",
    "lcb, ucb"
   ]
  },
  {
   "cell_type": "code",
   "execution_count": 85,
   "id": "5c6f9fb7",
   "metadata": {},
   "outputs": [
    {
     "data": {
      "text/plain": [
       "(0.0688956336417405, 0.08119657801948804)"
      ]
     },
     "execution_count": 85,
     "metadata": {},
     "output_type": "execute_result"
    }
   ],
   "source": [
    "#Kita dapat menghitungnya menggunakan library 'statsmodels'. Dengan hasil yang sama.\n",
    "\n",
    "import statsmodels.api as sm\n",
    "sm.stats.proportion_confint(n * p_b4, n)"
   ]
  },
  {
   "cell_type": "markdown",
   "id": "536af4ff",
   "metadata": {},
   "source": [
    "#### Hypothesis Testing : D'Agostino's K^2 Normality Test"
   ]
  },
  {
   "cell_type": "code",
   "execution_count": null,
   "id": "f191380d",
   "metadata": {},
   "outputs": [],
   "source": [
    "#Dikarenakan n>20 maka menggunakan uji normalitas dengan metode D'Agostino's K^2 Normality Test sebagai berikut."
   ]
  },
  {
   "cell_type": "code",
   "execution_count": 88,
   "id": "439b36bc",
   "metadata": {},
   "outputs": [
    {
     "name": "stdout",
     "output_type": "stream",
     "text": [
      "stat=369602.490, p=0.000\n",
      "Probably not Gaussian\n"
     ]
    }
   ],
   "source": [
    "# H0: the sample has a Gaussian distribution.\n",
    "# H1: the sample does not have a Gaussian distribution.\n",
    "\n",
    "from scipy.stats import normaltest\n",
    "stat, p = normaltest(df['SALE PRICE'])\n",
    "print('stat=%.3f, p=%.3f' % (stat, p))\n",
    "if p > 0.05:\n",
    "    print('Probably Gaussian')\n",
    "else:\n",
    "    print('Probably not Gaussian')"
   ]
  },
  {
   "cell_type": "code",
   "execution_count": null,
   "id": "887f2aab",
   "metadata": {},
   "outputs": [],
   "source": [
    "#Sehingga, distribusi harga penjualan properti tidak berdistribusi normal gaussian. Apabila melihat dari statistik sebelum-sebelumnya, diketahui beridstribusi normally skewness"
   ]
  },
  {
   "cell_type": "markdown",
   "id": "bd2da390",
   "metadata": {},
   "source": [
    "## Overall Analysis"
   ]
  },
  {
   "cell_type": "code",
   "execution_count": null,
   "id": "1c054903",
   "metadata": {},
   "outputs": [],
   "source": [
    "# Rata-rata total unit, residensial unit, dan komersial unit yang terjual di pasar properti kota New York secara berturut-turut 2,25, 2,02, dan 0,19 selama periode 12 bulan terakhir sejak data di-publish\n",
    "# Harga Jual properti memiliki range harga sebesar 2210000000 dengan minimum harga jual 0. Penjualan ini sebenarnya adalah transfer akta antar pihak: misalnya, orang tua mentransfer kepemilikan rumah mereka kepada seorang anak setelah pindah untuk pensiun.\n",
    "# Nilai harga jual memiliki variance sebesar 107756447924221.27 dan standar deviasi sebesar 10380580.32. Nilai ini mendekati mean = 1147900, sehingga menunjukkan persebaran data harga jual properti yang kecil\n",
    "# Berdasarkan harga jual properti dan total unit yang terjual, didapatkan nilai korelasi 0.1. Korelasi positif namun lemah, sehingga terdapat hubungan antara kedua variabel tersebut walaupun lemah\n",
    "# Terlihat bahwa data harga jual properti di NYC berdistribusi normal dengan positively skewness. Sehingga, ekor distribusi berada di sebelah kanan dan menunjukkan sebagian besar distribusi berada di nilai rendah. Apabila diinterpretasikan, banyaknya properti yang memiliki harga jual di bawah rata-rata menjadi lebih dari 50%.\n",
    "# Harga jual properti yang representatif dapat diukur dengan nilai median atau kuartil 2. Selain itu, gap harga jual properti mengalami perbedaan yang signifikan antara properti yang memiliki harga jual tinggi dan properti yang memiliki harga jual rendah"
   ]
  }
 ],
 "metadata": {
  "kernelspec": {
   "display_name": "Python 3",
   "language": "python",
   "name": "python3"
  },
  "language_info": {
   "codemirror_mode": {
    "name": "ipython",
    "version": 3
   },
   "file_extension": ".py",
   "mimetype": "text/x-python",
   "name": "python",
   "nbconvert_exporter": "python",
   "pygments_lexer": "ipython3",
   "version": "3.8.8"
  }
 },
 "nbformat": 4,
 "nbformat_minor": 5
}

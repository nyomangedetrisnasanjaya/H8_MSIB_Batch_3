{
 "cells": [
  {
   "cell_type": "markdown",
   "id": "06d44cef",
   "metadata": {},
   "source": [
    "# Hacktiv8-PTP Python For Data Science // S.3 // Function, Basic Module, and Package"
   ]
  },
  {
   "cell_type": "markdown",
   "id": "bf8d0822",
   "metadata": {},
   "source": [
    "## Defining a Function"
   ]
  },
  {
   "cell_type": "code",
   "execution_count": null,
   "id": "2b45fc9a",
   "metadata": {},
   "outputs": [],
   "source": [
    "#Function blocks dimulai dengan keyword def diikuti dengan nama fungsi dan tanda kurung (()).\n",
    "#Parameter atau argumen masukan apa pun harus ditempatkan di dalam tanda kurung ini. Kalian juga dapat menentukan parameter di dalam tanda kurung ini.\n",
    "#Statement awal dari suatu fungsi dapat berupa optional statement - dokumentasi dari fungsi atau docstring.\n",
    "#Blok kode dalam setiap function dimulai dengan titik dua (:) dan diberi indentasi.\n",
    "#Statement return [expression] menyebabkan kita keluar dari suatu fungsi, dan secara opsional meneruskan ekspresi ke pemanggil. Pernyataan return tanpa argumen sama dengan return None."
   ]
  },
  {
   "cell_type": "code",
   "execution_count": null,
   "id": "beba45c7",
   "metadata": {},
   "outputs": [],
   "source": [
    "def function_name( parameters ):\n",
    "   \"docstring\"\n",
    "   statement(s)"
   ]
  },
  {
   "cell_type": "code",
   "execution_count": null,
   "id": "749aed31",
   "metadata": {},
   "outputs": [],
   "source": [
    "#String pertama setelah header fungsi disebut docstring dan merupakan kependekan dari documentation string. Digunakan untuk menjelaskan secara singkat, apa tujuan dari function"
   ]
  },
  {
   "cell_type": "code",
   "execution_count": 1,
   "id": "e6660017",
   "metadata": {},
   "outputs": [],
   "source": [
    "def my_function(p, l):\n",
    "    \"Function untuk mengitung luas\"\n",
    "    print(p * l)"
   ]
  },
  {
   "cell_type": "code",
   "execution_count": 2,
   "id": "98e03fba",
   "metadata": {},
   "outputs": [
    {
     "name": "stdout",
     "output_type": "stream",
     "text": [
      "8\n"
     ]
    }
   ],
   "source": [
    "my_function(2,4)"
   ]
  },
  {
   "cell_type": "code",
   "execution_count": 3,
   "id": "271c76e9",
   "metadata": {},
   "outputs": [],
   "source": [
    "def printme( str ):\n",
    "   \"This prints a passed string into this function\"\n",
    "   print(str)\n",
    "   return"
   ]
  },
  {
   "cell_type": "markdown",
   "id": "fce3ee36",
   "metadata": {},
   "source": [
    "### Calling a Function"
   ]
  },
  {
   "cell_type": "code",
   "execution_count": 4,
   "id": "4fbcda66",
   "metadata": {
    "scrolled": true
   },
   "outputs": [
    {
     "name": "stdout",
     "output_type": "stream",
     "text": [
      "I'm first call to user defined function!\n",
      "Again second call to the same function\n"
     ]
    }
   ],
   "source": [
    "# Function definition is here\n",
    "def printme( str ):\n",
    "   \"This prints a passed string into this function\"\n",
    "   print(str)\n",
    "   return;\n",
    "\n",
    "# Now you can call printme function\n",
    "printme(\"I'm first call to user defined function!\")\n",
    "printme(\"Again second call to the same function\")"
   ]
  },
  {
   "cell_type": "markdown",
   "id": "b5263a40",
   "metadata": {},
   "source": [
    "### Pass by reference vs value"
   ]
  },
  {
   "cell_type": "code",
   "execution_count": null,
   "id": "2e1c5533",
   "metadata": {},
   "outputs": [],
   "source": [
    "#Semua parameter (arguments) dalam Python di-passed by reference. Artinya jika kalian mengubah apa yang dirujuk oleh parameter dalam suatu fungsi, perubahan tersebut juga kembali fungsi pemanggil."
   ]
  },
  {
   "cell_type": "code",
   "execution_count": 5,
   "id": "8ff300d6",
   "metadata": {},
   "outputs": [
    {
     "name": "stdout",
     "output_type": "stream",
     "text": [
      "Values inside the function:  [10, 20, 30, [1, 2, 3, 4]]\n",
      "Values outside the function:  [10, 20, 30, [1, 2, 3, 4]]\n"
     ]
    }
   ],
   "source": [
    "# Function definition is here\n",
    "def changeme( mylist ):\n",
    "   \"This changes a passed list into this function\"\n",
    "   mylist.append([1,2,3,4]);\n",
    "   print(\"Values inside the function: \", mylist)\n",
    "   return\n",
    "\n",
    "# Now you can call changeme function\n",
    "mylist = [10,20,30];\n",
    "changeme( mylist );\n",
    "print(\"Values outside the function: \", mylist)"
   ]
  },
  {
   "cell_type": "code",
   "execution_count": null,
   "id": "e2e66e27",
   "metadata": {},
   "outputs": [],
   "source": [
    "#Ada satu contoh lagi di mana argumen diteruskan oleh reference dan reference kemudian dioverwritte di dalam fungsi yang dipanggil."
   ]
  },
  {
   "cell_type": "code",
   "execution_count": 6,
   "id": "0f837c37",
   "metadata": {},
   "outputs": [
    {
     "name": "stdout",
     "output_type": "stream",
     "text": [
      "Values inside the function:  [1, 2, 3, 4]\n",
      "Values outside the function:  [10, 20, 30]\n"
     ]
    }
   ],
   "source": [
    "# Function definition is here\n",
    "def changeme( mylist ):\n",
    "   \"This changes a passed list into this function\"\n",
    "   mylist = [1,2,3,4]; # This would assig new reference in mylist\n",
    "   print(\"Values inside the function: \", mylist)\n",
    "   return\n",
    "\n",
    "# Now you can call changeme function\n",
    "mylist = [10,20,30];\n",
    "changeme( mylist );\n",
    "print(\"Values outside the function: \", mylist)"
   ]
  },
  {
   "cell_type": "markdown",
   "id": "55416136",
   "metadata": {},
   "source": [
    "### Function Arguments"
   ]
  },
  {
   "cell_type": "code",
   "execution_count": null,
   "id": "caa7858f",
   "metadata": {},
   "outputs": [],
   "source": [
    "#Kalian bisa memanggil suatu fungsi dengan menggunakan tipe argumen berikut :\n",
    "## Required arguments\n",
    "## Keyword arguments\n",
    "## Default arguments\n",
    "## Variable-length arguments"
   ]
  },
  {
   "cell_type": "markdown",
   "id": "9e769303",
   "metadata": {},
   "source": [
    "#### Required arguments"
   ]
  },
  {
   "cell_type": "code",
   "execution_count": 7,
   "id": "a811f4d3",
   "metadata": {},
   "outputs": [
    {
     "ename": "TypeError",
     "evalue": "printme() missing 1 required positional argument: 'str'",
     "output_type": "error",
     "traceback": [
      "\u001b[1;31m---------------------------------------------------------------------------\u001b[0m",
      "\u001b[1;31mTypeError\u001b[0m                                 Traceback (most recent call last)",
      "\u001b[1;32m<ipython-input-7-b512d353b0a0>\u001b[0m in \u001b[0;36m<module>\u001b[1;34m\u001b[0m\n\u001b[0;32m      6\u001b[0m \u001b[1;33m\u001b[0m\u001b[0m\n\u001b[0;32m      7\u001b[0m \u001b[1;31m# Now you can call printme function\u001b[0m\u001b[1;33m\u001b[0m\u001b[1;33m\u001b[0m\u001b[1;33m\u001b[0m\u001b[0m\n\u001b[1;32m----> 8\u001b[1;33m \u001b[0mprintme\u001b[0m\u001b[1;33m(\u001b[0m\u001b[1;33m)\u001b[0m\u001b[1;33m\u001b[0m\u001b[1;33m\u001b[0m\u001b[0m\n\u001b[0m",
      "\u001b[1;31mTypeError\u001b[0m: printme() missing 1 required positional argument: 'str'"
     ]
    }
   ],
   "source": [
    "#Required arguments adalah argumen yang diteruskan ke suatu fungsi dalam urutan posisi yang benar. Di sini, jumlah argumen dalam pemanggilan fungsi harus sama persis dengan function definition.\n",
    "#Untuk memanggil fungsi printme(), kalian pasti perlu memberikan satu argumen, jika tidak maka akan terjadi error sebagai berikut:\n",
    "\n",
    "# Function definition is here\n",
    "def printme( str ):\n",
    "   \"This prints a passed string into this function\"\n",
    "   print(str)\n",
    "   return;\n",
    "\n",
    "# Now you can call printme function\n",
    "printme()"
   ]
  },
  {
   "cell_type": "markdown",
   "id": "854cc4c2",
   "metadata": {},
   "source": [
    "#### Keyword arguments"
   ]
  },
  {
   "cell_type": "code",
   "execution_count": null,
   "id": "66b3a474",
   "metadata": {},
   "outputs": [],
   "source": [
    "#Keyword arguments berkaitan dengan pemanggilan fungsi. Saat kalian menggunakan Keyword arguments dalam memanggil fungsi, pemanggil mengidentifikasi argumen dengan nama parameter.\n",
    "#Hal ini memungkinkan kalian untuk melewati argumen atau menempatkannya tidak berurutan karena interpreter Python dapat menggunakan kata kunci yang disediakan untuk mencocokkan nilai dengan parameter. Kalian juga dapat membuat panggilan kata kunci ke fungsi printme() dengan cara berikut:"
   ]
  },
  {
   "cell_type": "code",
   "execution_count": 8,
   "id": "1f9cef74",
   "metadata": {},
   "outputs": [
    {
     "name": "stdout",
     "output_type": "stream",
     "text": [
      "Hacktiv8\n"
     ]
    }
   ],
   "source": [
    "# Function definition is here\n",
    "def printme( str ):\n",
    "   \"This prints a passed string into this function\"\n",
    "   print(str)\n",
    "   return;\n",
    "\n",
    "# Now you can call printme function\n",
    "printme(str = \"Hacktiv8\")"
   ]
  },
  {
   "cell_type": "code",
   "execution_count": null,
   "id": "7c4b4782",
   "metadata": {},
   "outputs": [],
   "source": [
    "#Contoh berikut memberikan gambaran yang lebih jelas. Perhatikan bahwa urutan parameter tidak menjadi masalah."
   ]
  },
  {
   "cell_type": "code",
   "execution_count": 10,
   "id": "ff32e584",
   "metadata": {},
   "outputs": [
    {
     "name": "stdout",
     "output_type": "stream",
     "text": [
      "Name:  Hacktiv8\n",
      "Age:  4\n"
     ]
    }
   ],
   "source": [
    "# Function definition is here\n",
    "def printinfo( name, age ):\n",
    "   \"This prints a passed info into this function\"\n",
    "   print(\"Name: \", name)\n",
    "   print(\"Age: \", age)\n",
    "   return;\n",
    "\n",
    "# Now you can call printinfo function\n",
    "printinfo( age=4, name=\"Hacktiv8\" )"
   ]
  },
  {
   "cell_type": "markdown",
   "id": "1e87d3b0",
   "metadata": {},
   "source": [
    "#### Default arguments"
   ]
  },
  {
   "cell_type": "code",
   "execution_count": null,
   "id": "50ec6c44",
   "metadata": {},
   "outputs": [],
   "source": [
    "#Default argument adalah argumen yang mengasumsikan nilai default jika nilai tidak disediakan dalam pemanggilan fungsi untuk argumen tersebut. Contoh berikut memberikan gambaran tentang Default argument, dia akan mencetak usia default jika tidak diberikan nilai apapun."
   ]
  },
  {
   "cell_type": "code",
   "execution_count": 11,
   "id": "8f028aac",
   "metadata": {},
   "outputs": [
    {
     "name": "stdout",
     "output_type": "stream",
     "text": [
      "Name:  hacktiv8\n",
      "Age:  50\n",
      "Name:  hacktiv\n",
      "Age:  26\n"
     ]
    }
   ],
   "source": [
    "# Function definition is here\n",
    "def printinfo( name, age = 26 ):\n",
    "   \"This prints a passed info into this function\"\n",
    "   print(\"Name: \", name)\n",
    "   print(\"Age: \", age)\n",
    "   return;\n",
    "\n",
    "# Now you can call printinfo function\n",
    "printinfo( age=50, name=\"hacktiv8\" )\n",
    "printinfo( name=\"hacktiv\" )"
   ]
  },
  {
   "cell_type": "markdown",
   "id": "96dd1e57",
   "metadata": {},
   "source": [
    "#### Variable-length arguments"
   ]
  },
  {
   "cell_type": "code",
   "execution_count": null,
   "id": "9cbc8986",
   "metadata": {},
   "outputs": [],
   "source": [
    "#Kalian mungkin perlu memproses suatu fungsi untuk menerima lebih banyak argumen daripada yang kalian tentukan saat mendefinisikan fungsi. Argumen ini disebut variable-length arguments dan tidak diberi nama ketika definisi fungsi, tidak seperti required dan default arguments.\n",
    "#Sintaks untuk fungsi dengan non-keyword variable arguments adalah sebagai berikut:"
   ]
  },
  {
   "cell_type": "code",
   "execution_count": null,
   "id": "c9ad20cf",
   "metadata": {},
   "outputs": [],
   "source": [
    "def functionname([formal_args,] *var_args_tuple ):\n",
    "   \"function_docstring\"\n",
    "   function_suite\n",
    "   return [expression]"
   ]
  },
  {
   "cell_type": "code",
   "execution_count": null,
   "id": "d2bf37c8",
   "metadata": {},
   "outputs": [],
   "source": [
    "#Tanda bintang (*) ditempatkan sebelum nama variabel yang menyimpan nilai dari semua nonkeyword variable arguments. Tuple tersebut tetap kosong jika tidak ada argumen tambahan yang ditentukan selama pemanggilan fungsi. Berikut adalah contoh sederhana:"
   ]
  },
  {
   "cell_type": "code",
   "execution_count": 66,
   "id": "3e02a8d8",
   "metadata": {},
   "outputs": [
    {
     "name": "stdout",
     "output_type": "stream",
     "text": [
      "Output is: \n",
      "10\n",
      "Output is: \n",
      "70\n",
      "60\n",
      "50\n",
      "a\n"
     ]
    }
   ],
   "source": [
    "# Function definition is here\n",
    "def printinfo( arg1, *vartuple ):\n",
    "   \"This prints a variable passed arguments\"\n",
    "   print(\"Output is: \")\n",
    "   print(arg1)\n",
    "   for var in vartuple:\n",
    "      print(var)\n",
    "   return;\n",
    "\n",
    "# Now you can call printinfo function\n",
    "printinfo( 10 )\n",
    "printinfo( 70, 60, 50, \"a\" )"
   ]
  },
  {
   "cell_type": "markdown",
   "id": "7d9c2b0f",
   "metadata": {},
   "source": [
    "### The Anonymous Functions"
   ]
  },
  {
   "cell_type": "code",
   "execution_count": null,
   "id": "d68bfc62",
   "metadata": {},
   "outputs": [],
   "source": [
    "#Functions ini disebut anonymous karena tidak dideklarasikan dengan cara standar dengan menggunakan keyword def. Kalian dapat menggunakan keyword lambda untuk membuat anonymous functions.\n",
    "## Lambda dapat mengambil berapapun argumen tetapi hanya mengembalikan satu nilai dalam bentuk expression. Lambda tidak boleh berisi commands atau multiple expressions.\n",
    "## Anonymous function tidak bisa dipanggil langsung melalui print karena lambda memerlukan expression\n",
    "## Lambda functions memiliki namespace local sendiri dan tidak dapat mengakses variabel selain yang ada di daftar parameternya dan yang ada di namespace global."
   ]
  },
  {
   "cell_type": "code",
   "execution_count": null,
   "id": "c5620f7d",
   "metadata": {},
   "outputs": [],
   "source": [
    "#Syntax dari lambda functions mengandung hanya single statement, seperti dibawah ini:\n",
    "lambda [arg1 [,arg2,.....argn]]:expression"
   ]
  },
  {
   "cell_type": "code",
   "execution_count": 65,
   "id": "7a618dce",
   "metadata": {},
   "outputs": [
    {
     "name": "stdout",
     "output_type": "stream",
     "text": [
      "Value of total :  None\n",
      "Value of total :  None\n"
     ]
    }
   ],
   "source": [
    "# Function definition is here\n",
    "sum = lambda arg1, arg2: arg1 + arg2;\n",
    "\n",
    "def sum(arg1, arg2):\n",
    "    arg1 + arg2\n",
    "    \n",
    "# Now you can call sum as a function\n",
    "print(\"Value of total : \", sum( 10, 20 ))\n",
    "print(\"Value of total : \", sum( 20, 20 ))"
   ]
  },
  {
   "cell_type": "markdown",
   "id": "e68c0a1f",
   "metadata": {},
   "source": [
    "### The return Statement"
   ]
  },
  {
   "cell_type": "code",
   "execution_count": null,
   "id": "01a4ed63",
   "metadata": {},
   "outputs": [],
   "source": [
    "#Statement return [expression] menyebabkan kita keluar dari suatu fungsi, dan secara opsional meneruskan ekspresi ke pemanggil. Pernyataan return tanpa argumen sama dengan return None.\n",
    "#Semua contoh di atas tidak mengembalikan nilai apa pun. Kalian dapat mengembalikan nilai dari fungsi sebagai berikut:"
   ]
  },
  {
   "cell_type": "code",
   "execution_count": 64,
   "id": "37031717",
   "metadata": {},
   "outputs": [
    {
     "name": "stdout",
     "output_type": "stream",
     "text": [
      "Inside the function :  30\n",
      "Outside the function :  40\n"
     ]
    }
   ],
   "source": [
    "# Function definition is here\n",
    "def sum(arg1, arg2):\n",
    "    # Add both the parameters and return them.\"\n",
    "    total = arg1 + arg2\n",
    "    total2 = total + arg1\n",
    "    print(\"Inside the function : \", total)\n",
    "    return total2\n",
    "\n",
    "# Now you can call sum function\n",
    "total = sum(10, 20)\n",
    "print(\"Outside the function : \", total)"
   ]
  },
  {
   "cell_type": "markdown",
   "id": "da231c76",
   "metadata": {},
   "source": [
    "### Scope of Variables"
   ]
  },
  {
   "cell_type": "code",
   "execution_count": null,
   "id": "33e6d52f",
   "metadata": {},
   "outputs": [],
   "source": [
    "#Semua variabel dalam program mungkin tidak dapat diakses di semua lokasi dalam program tersebut. Tergantung di mana kalian mendeklarasikan variabel.\n",
    "#Scope of a variable menentukan aturan apakah program ditempat kalian dapat mengakses identifier tertentu. Ada dua cakupan dasar variabel di Python : Global & Local variables"
   ]
  },
  {
   "cell_type": "code",
   "execution_count": null,
   "id": "190e5952",
   "metadata": {},
   "outputs": [],
   "source": [
    "#Variabel yang didefinisikan  di dalam badan fungsi adalah local scope, dan variabel yang ditentukan di luar alah global scope.\n",
    "#Ini berarti bahwa variabel lokal hanya dapat diakses di dalam fungsi yang dideklarasikan, sedangkan variabel global dapat diakses di seluruh badan program oleh semua fungsi. Saat kalian memanggil sebuah fungsi, variabel yang dideklarasikan di dalamnya akan dimasukkan ke dalam scopenya. Berikut adalah contoh sederhana:"
   ]
  },
  {
   "cell_type": "code",
   "execution_count": 69,
   "id": "289642bc",
   "metadata": {},
   "outputs": [
    {
     "name": "stdout",
     "output_type": "stream",
     "text": [
      "Inside the function local total :  30\n",
      "Outside the function global total :  0\n"
     ]
    }
   ],
   "source": [
    "total = 0; \n",
    "\n",
    "def sum(arg1, arg2):\n",
    "    total = arg1 + arg2\n",
    "    print(\"Inside the function local total : \", total)\n",
    "    return total;\n",
    "sum(10,20)\n",
    "def min():\n",
    "    sum(10, 20)\n",
    "print(\"Outside the function global total : \", total)"
   ]
  },
  {
   "cell_type": "code",
   "execution_count": 70,
   "id": "ca6be92b",
   "metadata": {},
   "outputs": [
    {
     "data": {
      "text/plain": [
       "40"
      ]
     },
     "execution_count": 70,
     "metadata": {},
     "output_type": "execute_result"
    }
   ],
   "source": [
    "jumlahKucing = 20\n",
    "\n",
    "def jumlahHewan():\n",
    "    jumlahAnjing = 30\n",
    "    return jumlahKucing + jumlahAnjing\n",
    "\n",
    "def jumlahKelinci():\n",
    "    return jumlahKucing + jumlahKucing\n",
    "\n",
    "jumlahHewan()\n",
    "jumlahKelinci()"
   ]
  },
  {
   "cell_type": "markdown",
   "id": "2a5a3f4a",
   "metadata": {},
   "source": [
    "## Python Modules"
   ]
  },
  {
   "cell_type": "code",
   "execution_count": null,
   "id": "7bd584af",
   "metadata": {},
   "outputs": [],
   "source": [
    "#Pemrograman modular mengacu pada proses pemecahan tugas pemrograman yang besar dan berat menjadi subtugas atau modul yang terpisah, lebih kecil, dan lebih mudah dikelola. Modul individu kemudian dapat digabungkan seperti blok bangunan untuk membuat aplikasi yang lebih besar.\n",
    "#Ada beberapa keuntungan memodularisasi kode dalam aplikasi besar:\n",
    "## Simplicity: Daripada berfokus pada keseluruhan masalah yang dihadapi, modul biasanya berfokus pada satu bagian masalah yang relatif kecil. Jika kalian mengerjakan satu modul, kalian akan memiliki domain masalah yang lebih kecil untuk dipahami. Ini membuat development lebih mudah dan less error.\n",
    "## Maintainability: Modul biasanya dirancang sedemikian rupa sehingga menerapkan logical boundaries antara domain masalah yang berbeda. Jika modul ditulis dengan cara yang meminimalkan ketergantungan, ada kemungkinan kecil bahwa modifikasi pada satu modul akan berdampak pada bagian lain dari program. (Kalian bahkan dapat membuat perubahan pada modul tanpa memiliki knowledge apa pun tentang aplikasi di luar modul tersebut.) Hal ini membuat modul lebih cocok bagi tim yang terdiri dari banyak programmer untuk bekerja secara kolaboratif pada aplikasi besar.\n",
    "## Reusability: Fungsi yang didefinisikan dalam satu modul dapat dengan mudah digunakan kembali/reused oleh bagian lain dari aplikasi. Hal ini menghilangkan kebutuhan untuk membuat duplicate code.\n",
    "## Scoping: Modul biasanya mendefinisikan namespace secara  terpisah, yang membantu menghindari tabrakan antara identifiers di berbagai area program."
   ]
  },
  {
   "cell_type": "code",
   "execution_count": null,
   "id": "40ba15c3",
   "metadata": {},
   "outputs": [],
   "source": [
    "#Hal yang menguntungkan tentang modul yang ditulis dengan Python adalah module sangat mudah dibuat. Yang perlu kalian lakukan adalah membuat file yang berisi kode Python dan kemudian memberi nama file dengan ekstensi .py.\n",
    "#Misalnya, kalian buat sebuah file bernama mod.py dengan isi sebagai berikut:\n",
    "s = \"Hacktiv8-PTP Python For Data Science\"\n",
    "a = [100, 200, 300]\n",
    "\n",
    "def foo(arg):\n",
    "    print(f'arg = {arg}')\n",
    "\n",
    "class Foo:\n",
    "    pass"
   ]
  },
  {
   "cell_type": "code",
   "execution_count": null,
   "id": "f67c4873",
   "metadata": {},
   "outputs": [],
   "source": [
    "#Beberapa objek didefinisikan di mod.py:\n",
    "## s (a string)\n",
    "## a (a list)\n",
    "## foo() (a function)\n",
    "## Foo (a class)"
   ]
  },
  {
   "cell_type": "code",
   "execution_count": null,
   "id": "228b8798",
   "metadata": {},
   "outputs": [],
   "source": [
    "#Dengan asumsi mod.py berada di lokasi yang sesuai, yang akan segera kalian pelajari lebih lanjut, objek ini dapat diakses dengan mengimpor modul dengan cara sebagai berikut:"
   ]
  },
  {
   "cell_type": "code",
   "execution_count": 88,
   "id": "0926f9dd",
   "metadata": {},
   "outputs": [
    {
     "name": "stdout",
     "output_type": "stream",
     "text": [
      "Hacktiv8-PTP Python For Data Science\n"
     ]
    }
   ],
   "source": [
    "import mod\n",
    "print(mod.s)"
   ]
  },
  {
   "cell_type": "code",
   "execution_count": 89,
   "id": "2ffddb25",
   "metadata": {},
   "outputs": [
    {
     "data": {
      "text/plain": [
       "[100, 200, 300]"
      ]
     },
     "execution_count": 89,
     "metadata": {},
     "output_type": "execute_result"
    }
   ],
   "source": [
    "mod.a"
   ]
  },
  {
   "cell_type": "code",
   "execution_count": 90,
   "id": "24c07628",
   "metadata": {},
   "outputs": [
    {
     "name": "stdout",
     "output_type": "stream",
     "text": [
      "arg = ['quux', 'corge', 'grault']\n"
     ]
    }
   ],
   "source": [
    "mod.foo(['quux', 'corge', 'grault'])"
   ]
  },
  {
   "cell_type": "code",
   "execution_count": 91,
   "id": "5aa83e91",
   "metadata": {},
   "outputs": [
    {
     "data": {
      "text/plain": [
       "<mod.Foo at 0x24bc2298eb0>"
      ]
     },
     "execution_count": 91,
     "metadata": {},
     "output_type": "execute_result"
    }
   ],
   "source": [
    "x = mod.Foo()\n",
    "x"
   ]
  },
  {
   "cell_type": "markdown",
   "id": "14789b3a",
   "metadata": {},
   "source": [
    "### The Module Search Path"
   ]
  },
  {
   "cell_type": "code",
   "execution_count": null,
   "id": "15037b8d",
   "metadata": {},
   "outputs": [],
   "source": [
    "#Melanjutkan contoh di atas, mari kita lihat apa yang terjadi ketika Python menjalankan pernyataan:\n",
    "import mod"
   ]
  },
  {
   "cell_type": "code",
   "execution_count": null,
   "id": "d0110f92",
   "metadata": {},
   "outputs": [],
   "source": [
    "#Ketika interpreter menjalankan pernyataan import di atas, ia mencari mod.py dalam daftar direktori dari sumber berikut:\n",
    "## Direktori tempat skrip input dijalankan atau direktori saat ini jika interpreter dijalankan secara interaktif\n",
    "## The list of directories contained in the PYTHONPATH environment variable, if it is set. (The format for PYTHONPATH is OS-dependent but should mimic the PATH environment variable.)\n",
    "## Daftar direktori yang terdapat dalam variabel PYTHONPATH environment. (Format untuk PYTHONPATH bergantung pada OS tetapi harus sama dengan variabel PATH environment.)\n",
    "## Daftar direktori yang bergantung pada instalasi yang dikonfigurasi pada saat Python diinstal"
   ]
  },
  {
   "cell_type": "code",
   "execution_count": 92,
   "id": "4cc2d279",
   "metadata": {},
   "outputs": [
    {
     "data": {
      "text/plain": [
       "['C:\\\\Users\\\\SANJAYA\\\\Downloads\\\\Hacktiv8 2022',\n",
       " 'C:\\\\Users\\\\SANJAYA\\\\anaconda3\\\\python38.zip',\n",
       " 'C:\\\\Users\\\\SANJAYA\\\\anaconda3\\\\DLLs',\n",
       " 'C:\\\\Users\\\\SANJAYA\\\\anaconda3\\\\lib',\n",
       " 'C:\\\\Users\\\\SANJAYA\\\\anaconda3',\n",
       " '',\n",
       " 'C:\\\\Users\\\\SANJAYA\\\\anaconda3\\\\lib\\\\site-packages',\n",
       " 'C:\\\\Users\\\\SANJAYA\\\\anaconda3\\\\lib\\\\site-packages\\\\locket-0.2.1-py3.8.egg',\n",
       " 'C:\\\\Users\\\\SANJAYA\\\\anaconda3\\\\lib\\\\site-packages\\\\win32',\n",
       " 'C:\\\\Users\\\\SANJAYA\\\\anaconda3\\\\lib\\\\site-packages\\\\win32\\\\lib',\n",
       " 'C:\\\\Users\\\\SANJAYA\\\\anaconda3\\\\lib\\\\site-packages\\\\Pythonwin',\n",
       " 'C:\\\\Users\\\\SANJAYA\\\\anaconda3\\\\lib\\\\site-packages\\\\IPython\\\\extensions',\n",
       " 'C:\\\\Users\\\\SANJAYA\\\\.ipython',\n",
       " '/Users/SANJAYA/Downloads/Hacktiv8 2022',\n",
       " '/Users/SANJAYA/Downloads/Hacktiv8 2022',\n",
       " '/Users/SANJAYA/Downloads/Hacktiv8 2022',\n",
       " '/Users/SANJAYA/Downloads/Hacktiv8 2022']"
      ]
     },
     "execution_count": 92,
     "metadata": {},
     "output_type": "execute_result"
    }
   ],
   "source": [
    "#Hasil dari search path dapat diakses di variabel Python sys.path, yang diperoleh dari modul bernama sys:\n",
    "import sys\n",
    "sys.path"
   ]
  },
  {
   "cell_type": "code",
   "execution_count": null,
   "id": "61a943a9",
   "metadata": {},
   "outputs": [],
   "source": [
    "#Jadi, untuk memastikan modul kalian ditemukan, kalian perlu melakukan salah satu hal berikut:\n",
    "## Letakkan mod.py di direktori tempat skrip input berada atau direktori saat ini pada terminal\n",
    "## Modifikasi PYTHONPATH environment variable agar memuat direktori tempat mod.py berada sebelum memulai interpreter\n",
    "## Atau: Letakkan mod.py di salah satu direktori yang sudah ada di variabel PYTHONPATH\n",
    "## Letakkan mod.py di salah satu direktori yang bergantung pada instalasi, yang mungkin kalian miliki atau tidak memiliki write-access, tergantung pada OS"
   ]
  },
  {
   "cell_type": "code",
   "execution_count": 94,
   "id": "4df92df1",
   "metadata": {},
   "outputs": [
    {
     "data": {
      "text/plain": [
       "['C:\\\\Users\\\\SANJAYA\\\\Downloads\\\\Hacktiv8 2022',\n",
       " 'C:\\\\Users\\\\SANJAYA\\\\anaconda3\\\\python38.zip',\n",
       " 'C:\\\\Users\\\\SANJAYA\\\\anaconda3\\\\DLLs',\n",
       " 'C:\\\\Users\\\\SANJAYA\\\\anaconda3\\\\lib',\n",
       " 'C:\\\\Users\\\\SANJAYA\\\\anaconda3',\n",
       " '',\n",
       " 'C:\\\\Users\\\\SANJAYA\\\\anaconda3\\\\lib\\\\site-packages',\n",
       " 'C:\\\\Users\\\\SANJAYA\\\\anaconda3\\\\lib\\\\site-packages\\\\locket-0.2.1-py3.8.egg',\n",
       " 'C:\\\\Users\\\\SANJAYA\\\\anaconda3\\\\lib\\\\site-packages\\\\win32',\n",
       " 'C:\\\\Users\\\\SANJAYA\\\\anaconda3\\\\lib\\\\site-packages\\\\win32\\\\lib',\n",
       " 'C:\\\\Users\\\\SANJAYA\\\\anaconda3\\\\lib\\\\site-packages\\\\Pythonwin',\n",
       " 'C:\\\\Users\\\\SANJAYA\\\\anaconda3\\\\lib\\\\site-packages\\\\IPython\\\\extensions',\n",
       " 'C:\\\\Users\\\\SANJAYA\\\\.ipython',\n",
       " '/Users/SANJAYA/Downloads/Hacktiv8 2022',\n",
       " '/Users/SANJAYA/Downloads/Hacktiv8 2022',\n",
       " '/Users/SANJAYA/Downloads/Hacktiv8 2022',\n",
       " '/Users/SANJAYA/Downloads/Hacktiv8 2022',\n",
       " '/Users/SANJAYA/Downloads/Hacktiv8 2022',\n",
       " '/Users/SANJAYA/Downloads/Hacktiv8 2022']"
      ]
     },
     "execution_count": 94,
     "metadata": {},
     "output_type": "execute_result"
    }
   ],
   "source": [
    "#Sebenarnya ada satu opsi tambahan: kalian dapat meletakkan file modul di direktori pilihan kalian dan kemudian memodifikasi sys.path pada saat run-time sehingga berisi direktori tersebut. Misalnya, dalam kasus ini, kalian dapat meletakkan mod.py di direktori /Users/ardhiraka/Desktop/H8Py dan kemudian jalankan statements berikut:\n",
    "sys.path.append(r'/Users/SANJAYA/Downloads/Hacktiv8 2022')\n",
    "sys.path"
   ]
  },
  {
   "cell_type": "code",
   "execution_count": 81,
   "id": "c352005a",
   "metadata": {},
   "outputs": [],
   "source": [
    "import mod"
   ]
  },
  {
   "cell_type": "code",
   "execution_count": 95,
   "id": "401aba49",
   "metadata": {},
   "outputs": [
    {
     "data": {
      "text/plain": [
       "'C:\\\\Users\\\\SANJAYA\\\\Downloads\\\\Hacktiv8 2022\\\\mod.py'"
      ]
     },
     "execution_count": 95,
     "metadata": {},
     "output_type": "execute_result"
    }
   ],
   "source": [
    "#Setelah modul berhasil diimpor, kalian dapat menentukan lokasi di mana modul itu ditemukan dengan atribut file:\n",
    "import mod\n",
    "mod.__file__"
   ]
  },
  {
   "cell_type": "code",
   "execution_count": 96,
   "id": "8b7418d4",
   "metadata": {},
   "outputs": [
    {
     "data": {
      "text/plain": [
       "'C:\\\\Users\\\\SANJAYA\\\\anaconda3\\\\lib\\\\re.py'"
      ]
     },
     "execution_count": 96,
     "metadata": {},
     "output_type": "execute_result"
    }
   ],
   "source": [
    "import re\n",
    "re.__file__"
   ]
  },
  {
   "cell_type": "markdown",
   "id": "bb31bbac",
   "metadata": {},
   "source": [
    "### The import Statement"
   ]
  },
  {
   "cell_type": "code",
   "execution_count": 98,
   "id": "0c910017",
   "metadata": {},
   "outputs": [
    {
     "data": {
      "text/plain": [
       "'Hacktiv8-PTP Python For Data Science'"
      ]
     },
     "execution_count": 98,
     "metadata": {},
     "output_type": "execute_result"
    }
   ],
   "source": [
    "#Dari pemanggil, objek dalam modul hanya dapat diakses jika diawali dengan <module_name> menggunakan notasi titik, seperti yang diilustrasikan di bawah.\n",
    "mod.s"
   ]
  },
  {
   "cell_type": "code",
   "execution_count": 99,
   "id": "e9af675f",
   "metadata": {},
   "outputs": [
    {
     "name": "stdout",
     "output_type": "stream",
     "text": [
      "arg = quux\n"
     ]
    }
   ],
   "source": [
    "mod.foo('quux')"
   ]
  },
  {
   "cell_type": "code",
   "execution_count": 100,
   "id": "cc7457a0",
   "metadata": {},
   "outputs": [
    {
     "ename": "NameError",
     "evalue": "name 's' is not defined",
     "output_type": "error",
     "traceback": [
      "\u001b[1;31m---------------------------------------------------------------------------\u001b[0m",
      "\u001b[1;31mNameError\u001b[0m                                 Traceback (most recent call last)",
      "\u001b[1;32m<ipython-input-100-b51db6e3380f>\u001b[0m in \u001b[0;36m<module>\u001b[1;34m\u001b[0m\n\u001b[0;32m      1\u001b[0m \u001b[1;31m#Tanpa notasi titik, s dan foo akan mengembalikan error.\u001b[0m\u001b[1;33m\u001b[0m\u001b[1;33m\u001b[0m\u001b[1;33m\u001b[0m\u001b[0m\n\u001b[1;32m----> 2\u001b[1;33m \u001b[0ms\u001b[0m\u001b[1;33m\u001b[0m\u001b[1;33m\u001b[0m\u001b[0m\n\u001b[0m",
      "\u001b[1;31mNameError\u001b[0m: name 's' is not defined"
     ]
    }
   ],
   "source": [
    "#Tanpa notasi titik, s dan foo akan mengembalikan error.\n",
    "s"
   ]
  },
  {
   "cell_type": "code",
   "execution_count": 101,
   "id": "328a9957",
   "metadata": {},
   "outputs": [
    {
     "ename": "NameError",
     "evalue": "name 'foo' is not defined",
     "output_type": "error",
     "traceback": [
      "\u001b[1;31m---------------------------------------------------------------------------\u001b[0m",
      "\u001b[1;31mNameError\u001b[0m                                 Traceback (most recent call last)",
      "\u001b[1;32m<ipython-input-101-9146dbce68a0>\u001b[0m in \u001b[0;36m<module>\u001b[1;34m\u001b[0m\n\u001b[1;32m----> 1\u001b[1;33m \u001b[0mfoo\u001b[0m\u001b[1;33m(\u001b[0m\u001b[1;34m'quux'\u001b[0m\u001b[1;33m)\u001b[0m\u001b[1;33m\u001b[0m\u001b[1;33m\u001b[0m\u001b[0m\n\u001b[0m",
      "\u001b[1;31mNameError\u001b[0m: name 'foo' is not defined"
     ]
    }
   ],
   "source": [
    "foo('quux')"
   ]
  },
  {
   "cell_type": "code",
   "execution_count": 104,
   "id": "9a00fe4f",
   "metadata": {},
   "outputs": [
    {
     "data": {
      "text/plain": [
       "'Hacktiv8-PTP Python For Data Science'"
      ]
     },
     "execution_count": 104,
     "metadata": {},
     "output_type": "execute_result"
    }
   ],
   "source": [
    "#Beberapa modul yang dipisahkan koma dapat dipanggil dalam single import statement:\n",
    "#import <module_name>[, <module_name> ...]\n",
    "#from <module_name> import <name(s)>\n",
    "from mod import s, foo\n",
    "s"
   ]
  },
  {
   "cell_type": "code",
   "execution_count": 105,
   "id": "001be532",
   "metadata": {},
   "outputs": [
    {
     "name": "stdout",
     "output_type": "stream",
     "text": [
      "arg = quux\n"
     ]
    }
   ],
   "source": [
    "foo('quux')\n",
    "##Setelah menjalankan pernyataan di atas, <name(s)> dapat dirujuk di environment pemanggil tanpa awalan <module_name>"
   ]
  },
  {
   "cell_type": "code",
   "execution_count": 1,
   "id": "a209d998",
   "metadata": {},
   "outputs": [
    {
     "data": {
      "text/plain": [
       "['foo', 'bar', 'baz']"
      ]
     },
     "execution_count": 1,
     "metadata": {},
     "output_type": "execute_result"
    }
   ],
   "source": [
    "#Karena bentuk impor ini menempatkan nama objek langsung ke tabel simbol pemanggil, objek apa pun yang sudah ada dengan nama yang sama akan ditimpa:\n",
    "a = ['foo', 'bar', 'baz']\n",
    "a"
   ]
  },
  {
   "cell_type": "code",
   "execution_count": 5,
   "id": "1ba518bf",
   "metadata": {},
   "outputs": [
    {
     "data": {
      "text/plain": [
       "'Hacktiv8-PTP Python For Data Science'"
      ]
     },
     "execution_count": 5,
     "metadata": {},
     "output_type": "execute_result"
    }
   ],
   "source": [
    "#from <module_name> import *\n",
    "from mod import *\n",
    "s"
   ]
  },
  {
   "cell_type": "code",
   "execution_count": 6,
   "id": "9d8cce52",
   "metadata": {},
   "outputs": [
    {
     "data": {
      "text/plain": [
       "[100, 200, 300]"
      ]
     },
     "execution_count": 6,
     "metadata": {},
     "output_type": "execute_result"
    }
   ],
   "source": [
    "a"
   ]
  },
  {
   "cell_type": "code",
   "execution_count": 7,
   "id": "fe6f20b8",
   "metadata": {},
   "outputs": [
    {
     "data": {
      "text/plain": [
       "<function mod.foo(arg)>"
      ]
     },
     "execution_count": 7,
     "metadata": {},
     "output_type": "execute_result"
    }
   ],
   "source": [
    "foo"
   ]
  },
  {
   "cell_type": "code",
   "execution_count": 8,
   "id": "0321fa30",
   "metadata": {},
   "outputs": [
    {
     "data": {
      "text/plain": [
       "mod.Foo"
      ]
     },
     "execution_count": 8,
     "metadata": {},
     "output_type": "execute_result"
    }
   ],
   "source": [
    "Foo"
   ]
  },
  {
   "cell_type": "code",
   "execution_count": null,
   "id": "4fc7726c",
   "metadata": {},
   "outputs": [],
   "source": [
    "#Ini tidak selalu direkomendasikan dalam kode produksi skala besar. Dan sedikit berbahaya karena kalian memasukkan nama ke tabel simbol lokal secara massal. Kecuali jika kalian mengenal object kalian semua dengan baik dan yakin tidak akan ada konflik, kalian memiliki peluang yang cukup besar untuk menimpa nama yang sudah ada secara tidak sengaja. Namun, sintaksis ini cukup berguna ketika Anda hanya menggunakan interpreter interaktif, untuk tujuan pengujian atau discovery , karena sintaks ini dengan cepat memberi kalian akses ke semua yang ditawarkan modul tanpa banyak mengetik."
   ]
  },
  {
   "cell_type": "code",
   "execution_count": 10,
   "id": "2b2becbf",
   "metadata": {},
   "outputs": [
    {
     "data": {
      "text/plain": [
       "'foo'"
      ]
     },
     "execution_count": 10,
     "metadata": {},
     "output_type": "execute_result"
    }
   ],
   "source": [
    "#from <module_name> import <name> as <alt_name>\n",
    "s = 'foo'\n",
    "a = ['foo', 'bar', 'baz']\n",
    "from mod import s as string, a as alist\n",
    "s"
   ]
  },
  {
   "cell_type": "code",
   "execution_count": 11,
   "id": "db045942",
   "metadata": {},
   "outputs": [
    {
     "data": {
      "text/plain": [
       "'Hacktiv8-PTP Python For Data Science'"
      ]
     },
     "execution_count": 11,
     "metadata": {},
     "output_type": "execute_result"
    }
   ],
   "source": [
    "string"
   ]
  },
  {
   "cell_type": "code",
   "execution_count": 12,
   "id": "21a3405d",
   "metadata": {},
   "outputs": [
    {
     "data": {
      "text/plain": [
       "['foo', 'bar', 'baz']"
      ]
     },
     "execution_count": 12,
     "metadata": {},
     "output_type": "execute_result"
    }
   ],
   "source": [
    "a"
   ]
  },
  {
   "cell_type": "code",
   "execution_count": 13,
   "id": "bf01d999",
   "metadata": {},
   "outputs": [
    {
     "data": {
      "text/plain": [
       "[100, 200, 300]"
      ]
     },
     "execution_count": 13,
     "metadata": {},
     "output_type": "execute_result"
    }
   ],
   "source": [
    "alist"
   ]
  },
  {
   "cell_type": "code",
   "execution_count": null,
   "id": "9d7f134a",
   "metadata": {},
   "outputs": [],
   "source": [
    "#Hal ini memungkinkan untuk menempatkan nama secara langsung ke tabel simbol lokal tetapi menghindari konflik dengan nama yang sudah ada sebelumnya"
   ]
  },
  {
   "cell_type": "code",
   "execution_count": 14,
   "id": "b22b8b20",
   "metadata": {},
   "outputs": [
    {
     "data": {
      "text/plain": [
       "[100, 200, 300]"
      ]
     },
     "execution_count": 14,
     "metadata": {},
     "output_type": "execute_result"
    }
   ],
   "source": [
    "#import <module_name> as <alt_name>\n",
    "#Kalian juga dapat mengimpor seluruh modul dengan nama alternatif:\n",
    "import mod as my_module\n",
    "my_module.a"
   ]
  },
  {
   "cell_type": "code",
   "execution_count": 15,
   "id": "6095fa01",
   "metadata": {},
   "outputs": [
    {
     "name": "stdout",
     "output_type": "stream",
     "text": [
      "arg = qux\n"
     ]
    }
   ],
   "source": [
    "my_module.foo('qux')"
   ]
  },
  {
   "cell_type": "code",
   "execution_count": 16,
   "id": "b34db1fc",
   "metadata": {},
   "outputs": [
    {
     "name": "stdout",
     "output_type": "stream",
     "text": [
      "arg = corge\n"
     ]
    }
   ],
   "source": [
    "#Isi modul dapat diimpor dari dalam definisi fungsi. Dalam hal ini, impor tidak akan terjadi hingga fungsinya dipanggil:\n",
    "def bar():\n",
    "    from mod import foo\n",
    "    foo('corge')\n",
    "bar()"
   ]
  },
  {
   "cell_type": "code",
   "execution_count": 17,
   "id": "1cffaa3c",
   "metadata": {},
   "outputs": [
    {
     "ename": "SyntaxError",
     "evalue": "import * only allowed at module level (<ipython-input-17-cb9db3c93129>, line 2)",
     "output_type": "error",
     "traceback": [
      "\u001b[1;36m  File \u001b[1;32m\"<ipython-input-17-cb9db3c93129>\"\u001b[1;36m, line \u001b[1;32m2\u001b[0m\n\u001b[1;33m    def bar():\u001b[0m\n\u001b[1;37m    ^\u001b[0m\n\u001b[1;31mSyntaxError\u001b[0m\u001b[1;31m:\u001b[0m import * only allowed at module level\n"
     ]
    }
   ],
   "source": [
    "#Namun, Python 3 tidak mengizinkan sintaks impor * secara sembarangan dari dalam suatu fungsi:\n",
    "def bar():\n",
    "    from mod import *"
   ]
  },
  {
   "cell_type": "code",
   "execution_count": 18,
   "id": "6bd792d9",
   "metadata": {},
   "outputs": [
    {
     "name": "stdout",
     "output_type": "stream",
     "text": [
      "Module not found\n",
      "Object not found in module\n"
     ]
    }
   ],
   "source": [
    "#try statement dengan klausa except ImportError dapat digunakan untuk melindungi dari upaya impor yang gagal:\n",
    "try:\n",
    "    # Non-existent module\n",
    "    import baz\n",
    "except ImportError:\n",
    "    print('Module not found')\n",
    "\n",
    "try:\n",
    "    # Existing module, but non-existent object\n",
    "    from mod import baz\n",
    "except ImportError:\n",
    "    print('Object not found in module')"
   ]
  },
  {
   "cell_type": "markdown",
   "id": "834857c7",
   "metadata": {},
   "source": [
    "### The dir() Function"
   ]
  },
  {
   "cell_type": "code",
   "execution_count": null,
   "id": "37ec11f6",
   "metadata": {},
   "outputs": [],
   "source": [
    "#Fungsi built-in dir() mengembalikan daftar nama yang ditentukan dalam namespace. Tanpa argumen, dir() menghasilkan daftar nama yang diurutkan menurut abjad dalam tabel simbol lokal saat ini:"
   ]
  },
  {
   "cell_type": "code",
   "execution_count": 19,
   "id": "8657c4fa",
   "metadata": {},
   "outputs": [
    {
     "data": {
      "text/plain": [
       "['Foo',\n",
       " 'In',\n",
       " 'Out',\n",
       " '_',\n",
       " '_1',\n",
       " '_10',\n",
       " '_11',\n",
       " '_12',\n",
       " '_13',\n",
       " '_14',\n",
       " '_2',\n",
       " '_3',\n",
       " '_4',\n",
       " '_5',\n",
       " '_6',\n",
       " '_7',\n",
       " '_8',\n",
       " '__',\n",
       " '___',\n",
       " '__builtin__',\n",
       " '__builtins__',\n",
       " '__doc__',\n",
       " '__loader__',\n",
       " '__name__',\n",
       " '__package__',\n",
       " '__spec__',\n",
       " '_dh',\n",
       " '_i',\n",
       " '_i1',\n",
       " '_i10',\n",
       " '_i11',\n",
       " '_i12',\n",
       " '_i13',\n",
       " '_i14',\n",
       " '_i15',\n",
       " '_i16',\n",
       " '_i17',\n",
       " '_i18',\n",
       " '_i19',\n",
       " '_i2',\n",
       " '_i3',\n",
       " '_i4',\n",
       " '_i5',\n",
       " '_i6',\n",
       " '_i7',\n",
       " '_i8',\n",
       " '_i9',\n",
       " '_ih',\n",
       " '_ii',\n",
       " '_iii',\n",
       " '_oh',\n",
       " 'a',\n",
       " 'alist',\n",
       " 'bar',\n",
       " 'exit',\n",
       " 'foo',\n",
       " 'get_ipython',\n",
       " 'my_module',\n",
       " 'quit',\n",
       " 's',\n",
       " 'string']"
      ]
     },
     "execution_count": 19,
     "metadata": {},
     "output_type": "execute_result"
    }
   ],
   "source": [
    "dir()"
   ]
  },
  {
   "cell_type": "code",
   "execution_count": 23,
   "id": "e8e1e8f4",
   "metadata": {},
   "outputs": [
    {
     "data": {
      "text/plain": [
       "['Bar',\n",
       " 'Foo',\n",
       " 'In',\n",
       " 'Out',\n",
       " '_',\n",
       " '_1',\n",
       " '_10',\n",
       " '_11',\n",
       " '_12',\n",
       " '_13',\n",
       " '_14',\n",
       " '_19',\n",
       " '_2',\n",
       " '_20',\n",
       " '_22',\n",
       " '_3',\n",
       " '_4',\n",
       " '_5',\n",
       " '_6',\n",
       " '_7',\n",
       " '_8',\n",
       " '__',\n",
       " '___',\n",
       " '__builtin__',\n",
       " '__builtins__',\n",
       " '__doc__',\n",
       " '__loader__',\n",
       " '__name__',\n",
       " '__package__',\n",
       " '__spec__',\n",
       " '_dh',\n",
       " '_i',\n",
       " '_i1',\n",
       " '_i10',\n",
       " '_i11',\n",
       " '_i12',\n",
       " '_i13',\n",
       " '_i14',\n",
       " '_i15',\n",
       " '_i16',\n",
       " '_i17',\n",
       " '_i18',\n",
       " '_i19',\n",
       " '_i2',\n",
       " '_i20',\n",
       " '_i21',\n",
       " '_i22',\n",
       " '_i23',\n",
       " '_i3',\n",
       " '_i4',\n",
       " '_i5',\n",
       " '_i6',\n",
       " '_i7',\n",
       " '_i8',\n",
       " '_i9',\n",
       " '_ih',\n",
       " '_ii',\n",
       " '_iii',\n",
       " '_oh',\n",
       " 'a',\n",
       " 'alist',\n",
       " 'bar',\n",
       " 'exit',\n",
       " 'foo',\n",
       " 'get_ipython',\n",
       " 'mod',\n",
       " 'my_module',\n",
       " 'quit',\n",
       " 'qux',\n",
       " 's',\n",
       " 'string',\n",
       " 'x']"
      ]
     },
     "execution_count": 23,
     "metadata": {},
     "output_type": "execute_result"
    }
   ],
   "source": [
    "import mod\n",
    "dir()"
   ]
  },
  {
   "cell_type": "code",
   "execution_count": 24,
   "id": "8fd99b4e",
   "metadata": {},
   "outputs": [
    {
     "data": {
      "text/plain": [
       "'Hacktiv8-PTP Python For Data Science'"
      ]
     },
     "execution_count": 24,
     "metadata": {},
     "output_type": "execute_result"
    }
   ],
   "source": [
    "mod.s"
   ]
  },
  {
   "cell_type": "code",
   "execution_count": 25,
   "id": "22c6725a",
   "metadata": {},
   "outputs": [
    {
     "name": "stdout",
     "output_type": "stream",
     "text": [
      "arg = [1, 2, 3]\n"
     ]
    }
   ],
   "source": [
    "mod.foo([1, 2, 3])"
   ]
  },
  {
   "cell_type": "code",
   "execution_count": 26,
   "id": "b85f43fe",
   "metadata": {
    "scrolled": true
   },
   "outputs": [
    {
     "data": {
      "text/plain": [
       "['Bar',\n",
       " 'Foo',\n",
       " 'In',\n",
       " 'Out',\n",
       " '_',\n",
       " '_1',\n",
       " '_10',\n",
       " '_11',\n",
       " '_12',\n",
       " '_13',\n",
       " '_14',\n",
       " '_19',\n",
       " '_2',\n",
       " '_20',\n",
       " '_22',\n",
       " '_23',\n",
       " '_24',\n",
       " '_3',\n",
       " '_4',\n",
       " '_5',\n",
       " '_6',\n",
       " '_7',\n",
       " '_8',\n",
       " '__',\n",
       " '___',\n",
       " '__builtin__',\n",
       " '__builtins__',\n",
       " '__doc__',\n",
       " '__loader__',\n",
       " '__name__',\n",
       " '__package__',\n",
       " '__spec__',\n",
       " '_dh',\n",
       " '_i',\n",
       " '_i1',\n",
       " '_i10',\n",
       " '_i11',\n",
       " '_i12',\n",
       " '_i13',\n",
       " '_i14',\n",
       " '_i15',\n",
       " '_i16',\n",
       " '_i17',\n",
       " '_i18',\n",
       " '_i19',\n",
       " '_i2',\n",
       " '_i20',\n",
       " '_i21',\n",
       " '_i22',\n",
       " '_i23',\n",
       " '_i24',\n",
       " '_i25',\n",
       " '_i26',\n",
       " '_i3',\n",
       " '_i4',\n",
       " '_i5',\n",
       " '_i6',\n",
       " '_i7',\n",
       " '_i8',\n",
       " '_i9',\n",
       " '_ih',\n",
       " '_ii',\n",
       " '_iii',\n",
       " '_oh',\n",
       " 'a',\n",
       " 'alist',\n",
       " 'bar',\n",
       " 'exit',\n",
       " 'foo',\n",
       " 'get_ipython',\n",
       " 'mod',\n",
       " 'my_module',\n",
       " 'quit',\n",
       " 'qux',\n",
       " 's',\n",
       " 'string',\n",
       " 'x']"
      ]
     },
     "execution_count": 26,
     "metadata": {},
     "output_type": "execute_result"
    }
   ],
   "source": [
    "from mod import a, Foo\n",
    "dir()"
   ]
  },
  {
   "cell_type": "code",
   "execution_count": 27,
   "id": "38800002",
   "metadata": {},
   "outputs": [
    {
     "data": {
      "text/plain": [
       "[100, 200, 300]"
      ]
     },
     "execution_count": 27,
     "metadata": {},
     "output_type": "execute_result"
    }
   ],
   "source": [
    "a"
   ]
  },
  {
   "cell_type": "code",
   "execution_count": 29,
   "id": "50154ea8",
   "metadata": {},
   "outputs": [
    {
     "data": {
      "text/plain": [
       "<mod.Foo at 0x25963b99af0>"
      ]
     },
     "execution_count": 29,
     "metadata": {},
     "output_type": "execute_result"
    }
   ],
   "source": [
    "x = Foo()\n",
    "x"
   ]
  },
  {
   "cell_type": "code",
   "execution_count": 30,
   "id": "f8301699",
   "metadata": {
    "scrolled": true
   },
   "outputs": [
    {
     "data": {
      "text/plain": [
       "['Bar',\n",
       " 'Foo',\n",
       " 'In',\n",
       " 'Out',\n",
       " '_',\n",
       " '_1',\n",
       " '_10',\n",
       " '_11',\n",
       " '_12',\n",
       " '_13',\n",
       " '_14',\n",
       " '_19',\n",
       " '_2',\n",
       " '_20',\n",
       " '_22',\n",
       " '_23',\n",
       " '_24',\n",
       " '_26',\n",
       " '_27',\n",
       " '_29',\n",
       " '_3',\n",
       " '_4',\n",
       " '_5',\n",
       " '_6',\n",
       " '_7',\n",
       " '_8',\n",
       " '__',\n",
       " '___',\n",
       " '__builtin__',\n",
       " '__builtins__',\n",
       " '__doc__',\n",
       " '__loader__',\n",
       " '__name__',\n",
       " '__package__',\n",
       " '__spec__',\n",
       " '_dh',\n",
       " '_i',\n",
       " '_i1',\n",
       " '_i10',\n",
       " '_i11',\n",
       " '_i12',\n",
       " '_i13',\n",
       " '_i14',\n",
       " '_i15',\n",
       " '_i16',\n",
       " '_i17',\n",
       " '_i18',\n",
       " '_i19',\n",
       " '_i2',\n",
       " '_i20',\n",
       " '_i21',\n",
       " '_i22',\n",
       " '_i23',\n",
       " '_i24',\n",
       " '_i25',\n",
       " '_i26',\n",
       " '_i27',\n",
       " '_i28',\n",
       " '_i29',\n",
       " '_i3',\n",
       " '_i30',\n",
       " '_i4',\n",
       " '_i5',\n",
       " '_i6',\n",
       " '_i7',\n",
       " '_i8',\n",
       " '_i9',\n",
       " '_ih',\n",
       " '_ii',\n",
       " '_iii',\n",
       " '_oh',\n",
       " 'a',\n",
       " 'alist',\n",
       " 'bar',\n",
       " 'exit',\n",
       " 'foo',\n",
       " 'get_ipython',\n",
       " 'mod',\n",
       " 'my_module',\n",
       " 'quit',\n",
       " 'qux',\n",
       " 's',\n",
       " 'string',\n",
       " 'x']"
      ]
     },
     "execution_count": 30,
     "metadata": {},
     "output_type": "execute_result"
    }
   ],
   "source": [
    "from mod import s as string\n",
    "dir()"
   ]
  },
  {
   "cell_type": "code",
   "execution_count": 31,
   "id": "5af71647",
   "metadata": {},
   "outputs": [
    {
     "data": {
      "text/plain": [
       "'Hacktiv8-PTP Python For Data Science'"
      ]
     },
     "execution_count": 31,
     "metadata": {},
     "output_type": "execute_result"
    }
   ],
   "source": [
    "string"
   ]
  },
  {
   "cell_type": "code",
   "execution_count": 22,
   "id": "0606313e",
   "metadata": {},
   "outputs": [
    {
     "data": {
      "text/plain": [
       "['Bar',\n",
       " 'Foo',\n",
       " 'In',\n",
       " 'Out',\n",
       " '_',\n",
       " '_1',\n",
       " '_10',\n",
       " '_11',\n",
       " '_12',\n",
       " '_13',\n",
       " '_14',\n",
       " '_19',\n",
       " '_2',\n",
       " '_20',\n",
       " '_3',\n",
       " '_4',\n",
       " '_5',\n",
       " '_6',\n",
       " '_7',\n",
       " '_8',\n",
       " '__',\n",
       " '___',\n",
       " '__builtin__',\n",
       " '__builtins__',\n",
       " '__doc__',\n",
       " '__loader__',\n",
       " '__name__',\n",
       " '__package__',\n",
       " '__spec__',\n",
       " '_dh',\n",
       " '_i',\n",
       " '_i1',\n",
       " '_i10',\n",
       " '_i11',\n",
       " '_i12',\n",
       " '_i13',\n",
       " '_i14',\n",
       " '_i15',\n",
       " '_i16',\n",
       " '_i17',\n",
       " '_i18',\n",
       " '_i19',\n",
       " '_i2',\n",
       " '_i20',\n",
       " '_i21',\n",
       " '_i22',\n",
       " '_i3',\n",
       " '_i4',\n",
       " '_i5',\n",
       " '_i6',\n",
       " '_i7',\n",
       " '_i8',\n",
       " '_i9',\n",
       " '_ih',\n",
       " '_ii',\n",
       " '_iii',\n",
       " '_oh',\n",
       " 'a',\n",
       " 'alist',\n",
       " 'bar',\n",
       " 'exit',\n",
       " 'foo',\n",
       " 'get_ipython',\n",
       " 'my_module',\n",
       " 'quit',\n",
       " 'qux',\n",
       " 's',\n",
       " 'string',\n",
       " 'x']"
      ]
     },
     "execution_count": 22,
     "metadata": {},
     "output_type": "execute_result"
    }
   ],
   "source": [
    "class Bar():\n",
    "    pass\n",
    "x = Bar()\n",
    "dir()"
   ]
  },
  {
   "cell_type": "code",
   "execution_count": null,
   "id": "5dd92bd3",
   "metadata": {},
   "outputs": [],
   "source": [
    "#Ini dapat berguna untuk mengidentifikasi apa yang sebenarnya telah ditambahkan ke namespace dengan import statement\n",
    "#Perhatikan bagaimana panggilan pertama ke dir() di atas mencantumkan beberapa nama yang ditentukan secara otomatis dan sudah ada di namespace saat penerjemah dimulai."
   ]
  },
  {
   "cell_type": "markdown",
   "id": "166bd010",
   "metadata": {},
   "source": [
    "### Executing a Module as a Script"
   ]
  },
  {
   "cell_type": "code",
   "execution_count": 46,
   "id": "15dff89e",
   "metadata": {},
   "outputs": [],
   "source": [
    "#Modul sering kali dirancang dengan kemampuan untuk dijalankan sebagai skrip standalone untuk tujuan testing fungsionalitas yang terdapat dalam modul. Hal ini disebut sebagai UNIT TESTING. Misalnya, kalian telah membuat modul fact.py berisi factorial function, sebagai berikut:\n",
    "def fact(n):\n",
    "    return 1 if n == 1 else n * fact(n-1)\n",
    "\n",
    "if (__name__ == '__main__'):\n",
    "    import sys\n",
    "    if len(sys.argv) > 1:\n",
    "        print(fact(int(sys.argv[1])))"
   ]
  },
  {
   "cell_type": "code",
   "execution_count": 48,
   "id": "8f4713bb",
   "metadata": {},
   "outputs": [
    {
     "data": {
      "text/plain": [
       "720"
      ]
     },
     "execution_count": 48,
     "metadata": {},
     "output_type": "execute_result"
    }
   ],
   "source": [
    "from fact import fact\n",
    "fact(6)"
   ]
  },
  {
   "cell_type": "markdown",
   "id": "fd8c2f00",
   "metadata": {},
   "source": [
    "### Reloading a Module"
   ]
  },
  {
   "cell_type": "code",
   "execution_count": 60,
   "id": "c0214801",
   "metadata": {},
   "outputs": [
    {
     "data": {
      "text/plain": [
       "<module 'mod' from 'C:\\\\Users\\\\SANJAYA\\\\Downloads\\\\Hacktiv8 2022\\\\mod.py'>"
      ]
     },
     "execution_count": 60,
     "metadata": {},
     "output_type": "execute_result"
    }
   ],
   "source": [
    "#Untuk alasan efisiensi, modul hanya dimuat sekali per sesi interpreter. Tidak masalah untuk definisi fungsi dan kelas, yang biasanya merupakan bagian terbesar dari konten modul. Tapi modul juga bisa berisi pernyataan yang dapat dieksekusi, biasanya untuk inisialisasi. Perhatikan bahwa statements hanya akan dijalankan saat pertama kali modul diimpor.\n",
    "#Jika kalian membuat perubahan pada modul dan perlu memuatnya kembali, kalian perlu memulai ulang interpreter atau menggunakan fungsi yang disebut reload() dari modul importlib:\n",
    "import importlib\n",
    "importlib.reload(mod)"
   ]
  },
  {
   "cell_type": "markdown",
   "id": "f9b483b0",
   "metadata": {},
   "source": [
    "## Python Packages"
   ]
  },
  {
   "cell_type": "code",
   "execution_count": null,
   "id": "4a4cc7ec",
   "metadata": {},
   "outputs": [],
   "source": [
    "#Misalkan kalian mengembangkan aplikasi yang sangat besar yang mencakup banyak modul.\n",
    "#Seiring bertambahnya jumlah modul, akan sulit untuk melacak semuanya jika dimasukan ke satu lokasi.\n",
    "#Ini terjadi jika mereka memiliki nama atau fungsi yang mirip.\n",
    "#Kalian mungkin harus mencari cara untuk mengelompokkan dan mengaturnya."
   ]
  },
  {
   "cell_type": "code",
   "execution_count": null,
   "id": "8d181c77",
   "metadata": {},
   "outputs": [],
   "source": [
    "#Packages memungkinkan penataan hierarki nama modul menggunakan notasi titik.\n",
    "#Dengan cara yang sama seperti modul membantu menghindari tabrakan antara nama variabel global,\n",
    "#Packages membantu menghindari tabrakan antara nama modul."
   ]
  },
  {
   "cell_type": "code",
   "execution_count": null,
   "id": "17d8753f",
   "metadata": {},
   "outputs": [],
   "source": [
    "#Di sini, ada direktori bernama pkg yang berisi dua modul, mod1.py dan mod2.py. Isi dari modul tersebut adalah:\n",
    "\n",
    "#mod1.py\n",
    "def foo():\n",
    "    print('[mod1] foo()')\n",
    "\n",
    "class Foo:\n",
    "    pass\n",
    "\n",
    "#mod2.py\n",
    "def bar():\n",
    "    print('[mod2] bar()')\n",
    "\n",
    "class Bar:\n",
    "    pass\n",
    "\n",
    "#MODULE HARUS DIMASUKKAN KE DALAM FOLDER <package_name>"
   ]
  },
  {
   "cell_type": "code",
   "execution_count": 72,
   "id": "1ebae642",
   "metadata": {},
   "outputs": [
    {
     "name": "stdout",
     "output_type": "stream",
     "text": [
      "[mod1] foo()\n"
     ]
    }
   ],
   "source": [
    "#Dengan struktur ini, jika direktori pkg berada di lokasi di mana ia dapat ditemukan (di salah satu direktori yang terdapat dalam sys.path), kalian dapat merujuk ke dua modul dengan notasi titik (pkg.mod1, pkg.mod2) dan impor dengan sintaks yang sudah kalian pelajari:\n",
    "\n",
    "#import <module_name>[, <module_name> ...]\n",
    "import pkg.mod1, pkg.mod2\n",
    "pkg.mod1.foo()"
   ]
  },
  {
   "cell_type": "code",
   "execution_count": 73,
   "id": "13afb55e",
   "metadata": {},
   "outputs": [
    {
     "data": {
      "text/plain": [
       "<pkg.mod2.Bar at 0x25963b99490>"
      ]
     },
     "execution_count": 73,
     "metadata": {},
     "output_type": "execute_result"
    }
   ],
   "source": [
    "x = pkg.mod2.Bar()\n",
    "x"
   ]
  },
  {
   "cell_type": "code",
   "execution_count": 74,
   "id": "efd43f61",
   "metadata": {},
   "outputs": [
    {
     "name": "stdout",
     "output_type": "stream",
     "text": [
      "[mod1] foo()\n"
     ]
    }
   ],
   "source": [
    "#from <module_name> import <name(s)>\n",
    "from pkg.mod1 import foo\n",
    "foo()"
   ]
  },
  {
   "cell_type": "code",
   "execution_count": 75,
   "id": "5cd003c1",
   "metadata": {},
   "outputs": [
    {
     "data": {
      "text/plain": [
       "<pkg.mod2.Bar at 0x25963b99b20>"
      ]
     },
     "execution_count": 75,
     "metadata": {},
     "output_type": "execute_result"
    }
   ],
   "source": [
    "#from <module_name> import <name> as <alt_name>\n",
    "from pkg.mod2 import Bar as Qux\n",
    "x = Qux()\n",
    "x"
   ]
  },
  {
   "cell_type": "code",
   "execution_count": null,
   "id": "f17c985b",
   "metadata": {},
   "outputs": [],
   "source": [
    "#Kalian juga dapat mengimpor modul dengan pernyataan ini:\n",
    "from <package_name> import <modules_name>[, <module_name> ...]\n",
    "from <package_name> import <module_name> as <alt_name>"
   ]
  },
  {
   "cell_type": "code",
   "execution_count": 76,
   "id": "fa08bc8f",
   "metadata": {},
   "outputs": [
    {
     "name": "stdout",
     "output_type": "stream",
     "text": [
      "[mod1] foo()\n"
     ]
    }
   ],
   "source": [
    "from pkg import mod1\n",
    "mod1.foo()"
   ]
  },
  {
   "cell_type": "code",
   "execution_count": 77,
   "id": "60470ede",
   "metadata": {},
   "outputs": [
    {
     "name": "stdout",
     "output_type": "stream",
     "text": [
      "[mod2] bar()\n"
     ]
    }
   ],
   "source": [
    "from pkg import mod2 as quux\n",
    "quux.bar()"
   ]
  },
  {
   "cell_type": "code",
   "execution_count": 78,
   "id": "d46e78cd",
   "metadata": {},
   "outputs": [
    {
     "data": {
      "text/plain": [
       "<module 'pkg' (namespace)>"
      ]
     },
     "execution_count": 78,
     "metadata": {},
     "output_type": "execute_result"
    }
   ],
   "source": [
    "#Secara teknis kalianjuga dapat mengimpor package:\n",
    "import pkg\n",
    "pkg"
   ]
  },
  {
   "cell_type": "code",
   "execution_count": 81,
   "id": "c1f7a15e",
   "metadata": {},
   "outputs": [
    {
     "data": {
      "text/plain": [
       "<module 'pkg.mod1' from 'C:\\\\Users\\\\SANJAYA\\\\Downloads\\\\Hacktiv8 2022\\\\pkg\\\\mod1.py'>"
      ]
     },
     "execution_count": 81,
     "metadata": {},
     "output_type": "execute_result"
    }
   ],
   "source": [
    "pkg.mod1"
   ]
  },
  {
   "cell_type": "code",
   "execution_count": 82,
   "id": "20c13e24",
   "metadata": {},
   "outputs": [
    {
     "name": "stdout",
     "output_type": "stream",
     "text": [
      "[mod1] foo()\n"
     ]
    }
   ],
   "source": [
    "pkg.mod1.foo()"
   ]
  },
  {
   "cell_type": "code",
   "execution_count": 83,
   "id": "aad1b539",
   "metadata": {},
   "outputs": [
    {
     "data": {
      "text/plain": [
       "<pkg.mod2.Bar at 0x25963b996a0>"
      ]
     },
     "execution_count": 83,
     "metadata": {},
     "output_type": "execute_result"
    }
   ],
   "source": [
    "pkg.mod2.Bar()"
   ]
  },
  {
   "cell_type": "markdown",
   "id": "81e2e42e",
   "metadata": {},
   "source": [
    "## PIP"
   ]
  },
  {
   "cell_type": "code",
   "execution_count": 85,
   "id": "2c02ca25",
   "metadata": {},
   "outputs": [],
   "source": [
    "#pip adalah package manager untuk Python.\n",
    "#Artinya, pip adalah alat yang memungkinkan kalian menginstal dan mengelola library dan dependensi tambahan yang tidak didistribusikan sebagai bagian dari library standar.\n",
    "#USING ANACONDA PROMPT"
   ]
  },
  {
   "cell_type": "code",
   "execution_count": null,
   "id": "9ef43371",
   "metadata": {},
   "outputs": [],
   "source": [
    "#Konsep manajer paket mungkin tidak asing bagi kalian jika kalian berasal dari bahasa lain.\n",
    "#JavaScript menggunakan npm untuk package management, Ruby menggunakan gem, dan .NET menggunakan NuGet.\n",
    "#Di Python, pip telah menjadi package manager standar."
   ]
  },
  {
   "cell_type": "code",
   "execution_count": null,
   "id": "34213d03",
   "metadata": {},
   "outputs": [],
   "source": [
    "pip --version"
   ]
  },
  {
   "cell_type": "markdown",
   "id": "5417b569",
   "metadata": {},
   "source": [
    "### Basic Package Installation"
   ]
  },
  {
   "cell_type": "code",
   "execution_count": null,
   "id": "0b9f630d",
   "metadata": {},
   "outputs": [],
   "source": [
    "#PyPI menghosting pustaka yang sangat populer untuk melakukan HTTP requests yang disebut requests.\n",
    "#kalian dapat mempelajari semua tentang request di situs dokumentasi resminya.\n",
    "#Langkah pertama adalah menginstalrequests package ke environment kalian.\n",
    "#kaliandapat mempelajari tentang perintah yang didukung pip dengan menjalankan help:\n",
    "pip help"
   ]
  },
  {
   "cell_type": "code",
   "execution_count": null,
   "id": "4827f41f",
   "metadata": {},
   "outputs": [],
   "source": [
    "#Seperti yang kalian lihat, pip menyediakan perintah install untuk menginstal paket.\n",
    "#Kalian dapat menjalankannya untuk menginstal requests package:\n",
    "pip install requests"
   ]
  },
  {
   "cell_type": "code",
   "execution_count": null,
   "id": "e675a2ad",
   "metadata": {},
   "outputs": [],
   "source": [
    "#Kalian menggunakan pip dengan perintah install diikuti dengan nama paket yang ingin kalian instal.\n",
    "#pip mencari package di PyPI, menghitung dependensinya, dan menginstalnya untuk memastikan requests akan berfungsi.\n",
    "#Perintah untuk memperbaharui pip:\n",
    "python -m pip install --upgrade pip\n",
    "#Perhatikan bahwa kalian menggunakan python -m untuk memperbarui pip. -m memberi tahu Python untuk menjalankan modul sebagai executable.\n",
    "#Hal ini diperlukan agar kalian dapat memperbarui pip, versi lama harus dicopot sebelum menginstal versi baru.\n",
    "#Saat kalian menjalankan pip sebagai modul, Python memuat modul dalam memori dan mengizinkan package dihapus saat sedang digunakan.\n",
    "#Kalian dapat menjalankan package seolah-olah itu adalah skrip jika package menyediakan top-level script main.py."
   ]
  },
  {
   "cell_type": "code",
   "execution_count": null,
   "id": "1820073f",
   "metadata": {},
   "outputs": [],
   "source": [
    "#kalian dapat menggunakan perintah list untuk melihat packages yang diinstal di environment kalian:\n",
    "pip list"
   ]
  },
  {
   "cell_type": "code",
   "execution_count": null,
   "id": "ab359e51",
   "metadata": {},
   "outputs": [],
   "source": [
    "#Seperti yang kalian lihat, beberapa package telah diinstal.\n",
    "#Kalian dapat melihat metadata package dengan menggunakan perintah show di pip:\n",
    "pip show requests\n",
    "#Metadata mencantumkan certifi, chardet, idna, dan urllib3 sebagai dependensi, dan kalian dapat melihat package tersebut juga diinstal."
   ]
  },
  {
   "cell_type": "code",
   "execution_count": 87,
   "id": "d27bedae",
   "metadata": {},
   "outputs": [
    {
     "name": "stdout",
     "output_type": "stream",
     "text": [
      "Response returned: 200, OK\n",
      "<!doctype html><html itemscope=\"\" itemtype=\"http://schema.org/WebPage\" lang=\"id\"><head><meta content=\"text/html; charset=UTF-8\" http-equiv=\"Content-Type\"><meta content=\"/images/branding/googleg/1x/googleg_standard_color_128dp.png\" itemprop=\"image\"><title>Google</title><script nonce=\"MxIA6PRZpqycZ-ErfYW_Xg\">(function(){window.google={kEI:'ph0MY5z9OcmbseMP9LWRqAU',kEXPI:'0,1302536,56873,6058,207,4804,2316,383,246,5,5367,1123753,1197741,380750,16114,17444,11240,17572,4858,1362,9291,3026,17582,4998,13228,3847,10622,22741,5081,887,706,1279,2742,149,1103,840,1983,4,4310,3514,606,2024,1776,520,14670,3227,2846,6,5599,23475,4696,1851,15756,3,257,89,230,4385,2074,149,13975,4,1528,2304,7039,4887,15422,4764,2658,7357,11039,2619,21223,5827,2530,4094,17,4035,3,3541,1,27182,14972,2,14022,14116,11623,5679,1021,2380,14023,14719,4568,6252,23424,1252,3370,2465,14967,4333,1,7483,445,2,2,1,1385,15921,6519,801,10053,108,6582,799,14680,1290,873,19632,8,1922,9779,23,19107,3763,1529,6899,1996,1377,1460,5762,353,1819,1403,1,4,1,2,223,2,1,2029,1225,3,2652,552,984,122,700,4,1,2,2,2,2,7091,1,757,553,3111,2403,1207,2323,3001,21,476,3314,46,2778,714,993,14,40,42,6,2,324,320,2,1103,117,1040,975,127,631,76,606,1382,163,1150,153,2,3,2509,2,4,1457,928,280,422,418,228,160,487,400,100,1323,1220,988,182,575,10,2,3,1,333,10,157,159,122,16,560,66,513,106,227,527,167,390,301,844,705,1053,41,6,5360785,205,374,5995020,2804424,3311,141,795,19735,1,1,346,1326,2,15,18,23949124,4042142,1964,3094,13579,3405,5540,2824,537,14,1376426,47700,9390',kBL:'2rIm'};google.sn='webhp';google.kHL='id';})();(function(){\n",
      "var f=this||self;var h,k=[];function l(a){for(var b;a&&(!a.getAttribute||!(b=a.getAttribute(\"eid\")));)a=a.parentNode;return b||h}function m(a){for(var b=null;a&&(!a.getAttribute||!(b=a.getAttribute(\"leid\")));)a=a.parentNode;return b}\n",
      "function n(a,b,c,d,g){var e=\"\";c||-1!==b.search(\"&ei=\")||(e=\"&ei=\"+l(d),-1===b.search(\"&lei=\")&&(d=m(d))&&(e+=\"&lei=\"+d));d=\"\";!c&&f._cshid&&-1===b.search(\"&cshid=\")&&\"slh\"!==a&&(d=\"&cshid=\"+f._cshid);c=c||\"/\"+(g||\"gen_204\")+\"?atyp=i&ct=\"+a+\"&cad=\"+b+e+\"&zx=\"+Date.now()+d;/^http:/i.test(c)&&\"https:\"===window.location.protocol&&(google.ml&&google.ml(Error(\"a\"),!1,{src:c,glmm:1}),c=\"\");return c};h=google.kEI;google.getEI=l;google.getLEI=m;google.ml=function(){return null};google.log=function(a,b,c,d,g){if(c=n(a,b,c,d,g)){a=new Image;var e=k.length;k[e]=a;a.onerror=a.onload=a.onabort=function(){delete k[e]};a.src=c}};google.logUrl=n;}).call(this);(function(){\n",
      "google.y={};google.sy=[];google.x=function(a,b){if(a)var c=a.id;else{do c=Math.random();while(google.y[c])}google.y[c]=[a,b];return!1};google.sx=function(a){google.sy.push(a)};google.lm=[];google.plm=function(a){google.lm.push.apply(google.lm,a)};google.lq=[];google.load=function(a,b,c){google.lq.push([[a],b,c])};google.loadAll=function(a,b){google.lq.push([a,b])};google.bx=!1;google.lx=function(){};}).call(this);google.f={};(function(){\n",
      "document.documentElement.addEventListener(\"submit\",function(b){var a;if(a=b.target){var c=a.getAttribute(\"data-submitfalse\");a=\"1\"===c||\"q\"===c&&!a.elements.q.value?!0:!1}else a=!1;a&&(b.preventDefault(),b.stopPropagation())},!0);document.documentElement.addEventListener(\"click\",function(b){var a;a:{for(a=b.target;a&&a!==document.documentElement;a=a.parentElement)if(\"A\"===a.tagName){a=\"1\"===a.getAttribute(\"data-nohref\");break a}a=!1}a&&b.preventDefault()},!0);}).call(this);</script><style>#gbar,#guser{font-size:13px;padding-top:1px !important;}#gbar{height:22px}#guser{padding-bottom:7px !important;text-align:right}.gbh,.gbd{border-top:1px solid #c9d7f1;font-size:1px}.gbh{height:0;position:absolute;top:24px;width:100%}@media all{.gb1{height:22px;margin-right:.5em;vertical-align:top}#gbar{float:left}}a.gb1,a.gb4{text-decoration:underline !important}a.gb1,a.gb4{color:#00c !important}.gbi .gb4{color:#dd8e27 !important}.gbf .gb4{color:#900 !important}\n",
      "</style><style>body,td,a,p,.h{font-family:arial,sans-serif}body{margin:0;overflow-y:scroll}#gog{padding:3px 8px 0}td{line-height:.8em}.gac_m td{line-height:17px}form{margin-bottom:20px}.h{color:#1558d6}em{font-weight:bold;font-style:normal}.lst{height:25px;width:496px}.gsfi,.lst{font:18px arial,sans-serif}.gsfs{font:17px arial,sans-serif}.ds{display:inline-box;display:inline-block;margin:3px 0 4px;margin-left:4px}input{font-family:inherit}body{background:#fff;color:#000}a{color:#4b11a8;text-decoration:none}a:hover,a:active{text-decoration:underline}.fl a{color:#1558d6}a:visited{color:#4b11a8}.sblc{padding-top:5px}.sblc a{display:block;margin:2px 0;margin-left:13px;font-size:11px}.lsbb{background:#f8f9fa;border:solid 1px;border-color:#dadce0 #70757a #70757a #dadce0;height:30px}.lsbb{display:block}#WqQANb a{display:inline-block;margin:0 12px}.lsb{background:url(/images/nav_logo229.png) 0 -261px repeat-x;border:none;color:#000;cursor:pointer;height:30px;margin:0;outline:0;font:15px arial,sans-serif;vertical-align:top}.lsb:active{background:#dadce0}.lst:focus{outline:none}.tiah{width:458px}</style><script nonce=\"MxIA6PRZpqycZ-ErfYW_Xg\">(function(){window.google.erd={jsr:1,bv:1642,de:true};\n",
      "var h=this||self;var k,l=null!=(k=h.mei)?k:1,n,p=null!=(n=h.sdo)?n:!0,q=0,r,t=google.erd,v=t.jsr;google.ml=function(a,b,d,m,e){e=void 0===e?2:e;b&&(r=a&&a.message);if(google.dl)return google.dl(a,e,d),null;if(0>v){window.console&&console.error(a,d);if(-2===v)throw a;b=!1}else b=!a||!a.message||\"Error loading script\"===a.message||q>=l&&!m?!1:!0;if(!b)return null;q++;d=d||{};b=encodeURIComponent;var c=\"/gen_204?atyp=i&ei=\"+b(google.kEI);google.kEXPI&&(c+=\"&jexpid=\"+b(google.kEXPI));c+=\"&srcpg=\"+b(google.sn)+\"&jsr=\"+b(t.jsr)+\"&bver=\"+b(t.bv);var f=a.lineNumber;void 0!==f&&(c+=\"&line=\"+f);var g=\n",
      "a.fileName;g&&(0<g.indexOf(\"-extension:/\")&&(e=3),c+=\"&script=\"+b(g),f&&g===window.location.href&&(f=document.documentElement.outerHTML.split(\"\\n\")[f],c+=\"&cad=\"+b(f?f.substring(0,300):\"No script found.\")));c+=\"&jsel=\"+e;for(var u in d)c+=\"&\",c+=b(u),c+=\"=\",c+=b(d[u]);c=c+\"&emsg=\"+b(a.name+\": \"+a.message);c=c+\"&jsst=\"+b(a.stack||\"N/A\");12288<=c.length&&(c=c.substr(0,12288));a=c;m||google.log(0,\"\",a);return a};window.onerror=function(a,b,d,m,e){r!==a&&(a=e instanceof Error?e:Error(a),void 0===d||\"lineNumber\"in a||(a.lineNumber=d),void 0===b||\"fileName\"in a||(a.fileName=b),google.ml(a,!1,void 0,!1,\"SyntaxError\"===a.name||\"SyntaxError\"===a.message.substring(0,11)||0<a.message.indexOf(\"Script error\")?2:0));r=null;p&&q>=l&&(window.onerror=null)};})();</script></head><body bgcolor=\"#fff\"><script nonce=\"MxIA6PRZpqycZ-ErfYW_Xg\">(function(){var src='/images/nav_logo229.png';var iesg=false;document.body.onload = function(){window.n && window.n();if (document.images){new Image().src=src;}\n",
      "if (!iesg){document.f&&document.f.q.focus();document.gbqf&&document.gbqf.q.focus();}\n",
      "}\n",
      "})();</script><div id=\"mngb\"><div id=gbar><nobr><b class=gb1>Telusuri</b> <a class=gb1 href=\"https://www.google.co.id/imghp?hl=id&tab=wi\">Gambar</a> <a class=gb1 href=\"https://maps.google.co.id/maps?hl=id&tab=wl\">Maps</a> <a class=gb1 href=\"https://play.google.com/?hl=id&tab=w8\">Play</a> <a class=gb1 href=\"https://www.youtube.com/?tab=w1\">YouTube</a> <a class=gb1 href=\"https://news.google.com/?tab=wn\">Berita</a> <a class=gb1 href=\"https://mail.google.com/mail/?tab=wm\">Gmail</a> <a class=gb1 href=\"https://drive.google.com/?tab=wo\">Drive</a> <a class=gb1 style=\"text-decoration:none\" href=\"https://www.google.co.id/intl/id/about/products?tab=wh\"><u>Lainnya</u> &raquo;</a></nobr></div><div id=guser width=100%><nobr><span id=gbn class=gbi></span><span id=gbf class=gbf></span><span id=gbe></span><a href=\"http://www.google.co.id/history/optout?hl=id\" class=gb4>Histori Web</a> | <a  href=\"/preferences?hl=id\" class=gb4>Setelan</a> | <a target=_top id=gb_70 href=\"https://accounts.google.com/ServiceLogin?hl=id&passive=true&continue=https://www.google.com/&ec=GAZAAQ\" class=gb4>Login</a></nobr></div><div class=gbh style=left:0></div><div class=gbh style=right:0></div></div><center><br clear=\"all\" id=\"lgpd\"><div id=\"lga\"><img alt=\"Google\" height=\"92\" src=\"/images/branding/googlelogo/1x/googlelogo_white_background_color_272x92dp.png\" style=\"padding:28px 0 14px\" width=\"272\" id=\"hplogo\"><br><br></div><form action=\"/search\" name=\"f\"><table cellpadding=\"0\" cellspacing=\"0\"><tr valign=\"top\"><td width=\"25%\">&nbsp;</td><td align=\"center\" nowrap=\"\"><input name=\"ie\" value=\"ISO-8859-1\" type=\"hidden\"><input value=\"id\" name=\"hl\" type=\"hidden\"><input name=\"source\" type=\"hidden\" value=\"hp\"><input name=\"biw\" type=\"hidden\"><input name=\"bih\" type=\"hidden\"><div class=\"ds\" style=\"height:32px;margin:4px 0\"><div style=\"position:relative;zoom:1\"><input class=\"lst tiah\" style=\"margin:0;padding:5px 8px 0 6px;vertical-align:top;color:#000;padding-right:38px\" autocomplete=\"off\" value=\"\" title=\"Penelusuran Google\" maxlength=\"2048\" name=\"q\" size=\"57\"><img src=\"/textinputassistant/tia.png\" style=\"position:absolute;cursor:pointer;right:5px;top:4px;z-index:300\" data-script-url=\"/textinputassistant/11/id_tia.js\" id=\"tsuid_1\" alt=\"\" height=\"23\" width=\"27\"><script nonce=\"MxIA6PRZpqycZ-ErfYW_Xg\">(function(){var id='tsuid_1';document.getElementById(id).onclick = function(){var s = document.createElement('script');s.src = this.getAttribute('data-script-url');(document.getElementById('xjsc')||document.body).appendChild(s);};})();</script></div></div><br style=\"line-height:0\"><span class=\"ds\"><span class=\"lsbb\"><input class=\"lsb\" value=\"Penelusuran Google\" name=\"btnG\" type=\"submit\"></span></span><span class=\"ds\"><span class=\"lsbb\"><input class=\"lsb\" id=\"tsuid_2\" value=\"Saya Lagi Beruntung\" name=\"btnI\" type=\"submit\"><script nonce=\"MxIA6PRZpqycZ-ErfYW_Xg\">(function(){var id='tsuid_2';document.getElementById(id).onclick = function(){if (this.form.q.value){this.checked = 1;if (this.form.iflsig)this.form.iflsig.disabled = false;}\n",
      "else top.location='/doodles/';};})();</script><input value=\"AJiK0e8AAAAAYwwrtglxZdBv5xq0wJeaeZ96IvWsp5-8\" name=\"iflsig\" type=\"hidden\"></span></span></td><td class=\"fl sblc\" align=\"left\" nowrap=\"\" width=\"25%\"><a href=\"/advanced_search?hl=id&amp;authuser=0\">Penelusuran lanjutan</a></td></tr></table><input id=\"gbv\" name=\"gbv\" type=\"hidden\" value=\"1\"><script nonce=\"MxIA6PRZpqycZ-ErfYW_Xg\">(function(){\n",
      "var a,b=\"1\";if(document&&document.getElementById)if(\"undefined\"!=typeof XMLHttpRequest)b=\"2\";else if(\"undefined\"!=typeof ActiveXObject){var c,d,e=[\"MSXML2.XMLHTTP.6.0\",\"MSXML2.XMLHTTP.3.0\",\"MSXML2.XMLHTTP\",\"Microsoft.XMLHTTP\"];for(c=0;d=e[c++];)try{new ActiveXObject(d),b=\"2\"}catch(h){}}a=b;if(\"2\"==a&&-1==location.search.indexOf(\"&gbv=2\")){var f=google.gbvu,g=document.getElementById(\"gbv\");g&&(g.value=a);f&&window.setTimeout(function(){location.href=f},0)};}).call(this);</script></form><div id=\"gac_scont\"></div><div style=\"font-size:83%;min-height:3.5em\"><br><div id=\"gws-output-pages-elements-homepage_additional_languages__als\"><style>#gws-output-pages-elements-homepage_additional_languages__als{font-size:small;margin-bottom:24px}#SIvCob{color:#3c4043;display:inline-block;line-height:28px;}#SIvCob a{padding:0 3px;}.H6sW5{display:inline-block;margin:0 2px;white-space:nowrap}.z4hgWe{display:inline-block;margin:0 2px}</style><div id=\"SIvCob\">Google tersedia dalam bahasa:  <a href=\"https://www.google.com/setprefs?sig=0_FK0uwZ1tUwTMwADU3AT9uLTw4XE%3D&amp;hl=en&amp;source=homepage&amp;sa=X&amp;ved=0ahUKEwic6NL7-er5AhXJTWwGHfRaBFUQ2ZgBCAU\">English</a>    <a href=\"https://www.google.com/setprefs?sig=0_FK0uwZ1tUwTMwADU3AT9uLTw4XE%3D&amp;hl=jv&amp;source=homepage&amp;sa=X&amp;ved=0ahUKEwic6NL7-er5AhXJTWwGHfRaBFUQ2ZgBCAY\"></a>    <a href=\"https://www.google.com/setprefs?sig=0_FK0uwZ1tUwTMwADU3AT9uLTw4XE%3D&amp;hl=ban&amp;source=homepage&amp;sa=X&amp;ved=0ahUKEwic6NL7-er5AhXJTWwGHfRaBFUQ2ZgBCAc\">Basa Bali</a>  </div></div></div><span id=\"footer\"><div style=\"font-size:10pt\"><div style=\"margin:19px auto;text-align:center\" id=\"WqQANb\"><a href=\"http://www.google.co.id/intl/id/services/\">Solusi Bisnis</a><a href=\"/intl/id/about.html\">Serba-serbi Google</a><a href=\"https://www.google.com/setprefdomain?prefdom=ID&amp;prev=https://www.google.co.id/&amp;sig=K_QAsZqK73XRSySlocxoT6U6Wmf30%3D\">Google.co.id</a></div></div><p style=\"font-size:8pt;color:#70757a\">&copy; 2022</p></span></center><script nonce=\"MxIA6PRZpqycZ-ErfYW_Xg\">(function(){window.google.cdo={height:757,width:1440};(function(){\n",
      "var a=window.innerWidth,b=window.innerHeight;if(!a||!b){var c=window.document,d=\"CSS1Compat\"==c.compatMode?c.documentElement:c.body;a=d.clientWidth;b=d.clientHeight}a&&b&&(a!=google.cdo.width||b!=google.cdo.height)&&google.log(\"\",\"\",\"/client_204?&atyp=i&biw=\"+a+\"&bih=\"+b+\"&ei=\"+google.kEI);}).call(this);})();</script> <script nonce=\"MxIA6PRZpqycZ-ErfYW_Xg\">(function(){google.xjs={ck:'xjs.hp.nAt8mkHlvVw.L.X.O',cs:'ACT90oHoShBbF_F59WFOMkLUKuT8J7Zu6A',excm:[]};})();</script>  <script nonce=\"MxIA6PRZpqycZ-ErfYW_Xg\">(function(){var u='/xjs/_/js/k\\x3dxjs.hp.en.IFNQYYgwHFo.O/am\\x3dAACeAAAkAEAB/d\\x3d1/ed\\x3d1/rs\\x3dACT90oGGoXpaExET3NixBnf9QGxP8RElRQ/m\\x3dsb_he,d';\n",
      "var d=this||self,e=function(a){return a};\n",
      "var g;var l=function(a,b){this.g=b===h?a:\"\"};l.prototype.toString=function(){return this.g+\"\"};var h={};function n(){var a=u;google.lx=function(){p(a);google.lx=function(){}};google.bx||google.lx()}\n",
      "function p(a){google.timers&&google.timers.load&&google.tick&&google.tick(\"load\",\"xjsls\");var b=document;var c=\"SCRIPT\";\"application/xhtml+xml\"===b.contentType&&(c=c.toLowerCase());c=b.createElement(c);if(void 0===g){b=null;var k=d.trustedTypes;if(k&&k.createPolicy){try{b=k.createPolicy(\"goog#html\",{createHTML:e,createScript:e,createScriptURL:e})}catch(q){d.console&&d.console.error(q.message)}g=b}else g=b}a=(b=g)?b.createScriptURL(a):a;a=new l(a,h);c.src=a instanceof l&&a.constructor===l?a.g:\"type_error:TrustedResourceUrl\";var f,m;(f=(a=null==(m=(f=(c.ownerDocument&&c.ownerDocument.defaultView||window).document).querySelector)?void 0:m.call(f,\"script[nonce]\"))?a.nonce||a.getAttribute(\"nonce\")||\"\":\"\")&&c.setAttribute(\"nonce\",f);document.body.appendChild(c);google.psa=!0};google.xjsu=u;setTimeout(function(){n()},0);})();function _DumpException(e){throw e;}\n",
      "function _F_installCss(c){}\n",
      "(function(){google.jl={blt:'none',chnk:0,dw:false,dwu:true,emtn:0,end:0,ine:false,injs:'none',injt:0,injth:0,injv2:false,lls:'default',pdt:0,rep:0,snet:true,strt:0,ubm:false,uwp:true};})();(function(){var pmc='{\\x22d\\x22:{},\\x22sb_he\\x22:{\\x22agen\\x22:true,\\x22cgen\\x22:true,\\x22client\\x22:\\x22heirloom-hp\\x22,\\x22dh\\x22:true,\\x22dhqt\\x22:true,\\x22ds\\x22:\\x22\\x22,\\x22ffql\\x22:\\x22id\\x22,\\x22fl\\x22:true,\\x22host\\x22:\\x22google.com\\x22,\\x22isbh\\x22:28,\\x22jsonp\\x22:true,\\x22msgs\\x22:{\\x22cibl\\x22:\\x22Hapus Penelusuran\\x22,\\x22dym\\x22:\\x22Mungkin maksud Anda adalah:\\x22,\\x22lcky\\x22:\\x22Saya Lagi Beruntung\\x22,\\x22lml\\x22:\\x22Pelajari lebih lanjut\\x22,\\x22oskt\\x22:\\x22Fitur input\\x22,\\x22psrc\\x22:\\x22Penelusuran ini telah dihapus dari \\\\u003Ca href\\x3d\\\\\\x22/history\\\\\\x22\\\\u003EHistori Web\\\\u003C/a\\\\u003E Anda\\x22,\\x22psrl\\x22:\\x22Hapus\\x22,\\x22sbit\\x22:\\x22Telusuri gambar\\x22,\\x22srch\\x22:\\x22Penelusuran Google\\x22},\\x22ovr\\x22:{},\\x22pq\\x22:\\x22\\x22,\\x22refpd\\x22:true,\\x22rfs\\x22:[],\\x22sbas\\x22:\\x220 3px 8px 0 rgba(0,0,0,0.2),0 0 0 1px rgba(0,0,0,0.08)\\x22,\\x22sbpl\\x22:16,\\x22sbpr\\x22:16,\\x22scd\\x22:10,\\x22stok\\x22:\\x22wNK3hCkIbNHYvgFnGiohkf55C_Q\\x22,\\x22uhde\\x22:false}}';google.pmc=JSON.parse(pmc);})();</script>        </body></html>\n"
     ]
    }
   ],
   "source": [
    "#Dengan requests package terinstal, kalian dapat mengubah contoh di atas dan melihat betapa mudahnya mengambil konten halaman web:\n",
    "# In using-requests.py\n",
    "\n",
    "import requests\n",
    "\n",
    "url = 'https://www.google.com'\n",
    "response = requests.get(url)\n",
    "print(f'Response returned: {response.status_code}, {response.reason}')\n",
    "print(response.text)"
   ]
  },
  {
   "cell_type": "code",
   "execution_count": null,
   "id": "3f44c194",
   "metadata": {},
   "outputs": [],
   "source": [
    "#Anda dapat mengimpor requests package sebagai paket standar karena sekarang package tersebut sudah diinstal di environment kalian.\n",
    "#Seperti yang kalian lihat, requests.get() menangani koneksi HTTP untuk kalian dan\n",
    "#mengembalikan objek respons yang mirip dengan contoh asli tetapi dengan beberapa peningkatan antarmuka."
   ]
  },
  {
   "cell_type": "markdown",
   "id": "e4645832",
   "metadata": {},
   "source": [
    "### Using Requirement Files"
   ]
  },
  {
   "cell_type": "code",
   "execution_count": null,
   "id": "bdb3a916",
   "metadata": {},
   "outputs": [],
   "source": [
    "#Requirement files memungkinkan kalian menentukan dengan tepat paket dan versi mana yang harus diinstal.\n",
    "#Menjalankan pip help menunjukkan bahwa ada freeze command yang mengeluarkan paket yang diinstal dalam format requirements.\n",
    "#Kalian dapat menggunakan perintah ini, mengarahkan output ke file untuk menghasilkan requirements file:\n",
    "pip freeze > requirements.txt\n",
    "cat requirements.txt\n",
    "#Perintah freeze membuang semua paket dan versinya ke output standar, sehingga kalian dapat mengarahkan output ke file yang dapat digunakan untuk menginstal persyaratan yang tepat ke sistem lain.\n",
    "#Ketentuannya adalah menamai file ini Requirement.txt, tetapi kalian dapat memberikannya nama apa pun yang kalian inginkan."
   ]
  },
  {
   "cell_type": "code",
   "execution_count": null,
   "id": "8cf0a762",
   "metadata": {},
   "outputs": [],
   "source": [
    "#Saat kalian ingin mereplikasi environment di sistem lain, kalian dapat menjalankan pip install dengan menentukan requirements file menggunakan -r:\n",
    "pip install -r requirements.txt\n",
    "#Versi paket akan cocok dengan yang tercantum di requirement.txt:\n",
    "pip list\n",
    "#Kalian dapat mengirimkan file requirement.txt ke source control dan menggunakannya untuk membuat environment yang tepat di komputer lain."
   ]
  },
  {
   "cell_type": "markdown",
   "id": "48461ce1",
   "metadata": {},
   "source": [
    "### Finding Packages to Use"
   ]
  },
  {
   "cell_type": "code",
   "execution_count": null,
   "id": "b53a667c",
   "metadata": {},
   "outputs": [],
   "source": [
    "pip help search\n",
    "#Perintah mengambil satu set opsi yang tercantum di atas dan <query>.\n",
    "#Kueri hanyalah string untuk dicari dan akan cocok dengan paket dan deskripsinya."
   ]
  },
  {
   "cell_type": "code",
   "execution_count": null,
   "id": "47aa8d5a",
   "metadata": {},
   "outputs": [],
   "source": [
    "#Misalkan aplikasi kalian perlu mengakses layanan yang menggunakan OAuth2 untuk otorisasi.\n",
    "#Idealnya, ada perpustakaan yang bekerja dengan requests atau dengan antarmuka serupa yang dapat membantu kita.\n",
    "#Mari kita telusuri PyPI menggunakan pip:\n",
    "pip search requests oauth"
   ]
  },
  {
   "cell_type": "code",
   "execution_count": null,
   "id": "a26be27a",
   "metadata": {},
   "outputs": [],
   "source": [
    "#Pencarian untuk istilah yang sama di PyPI menghasilkan banyak hasil, tetapi kalian dapat memfilternya berdasarkan kategori yang berbeda.\n",
    "#Misalnya, kalian dapat memilih Pengembang. Selain itu, kalian mungkin menginginkan paket yang stabil dan siap produksi.\n",
    "#kalian dapat memperluas kategori Status Pengembangan dan memilih Produksi / Stabil"
   ]
  },
  {
   "cell_type": "markdown",
   "id": "46f20d95",
   "metadata": {},
   "source": [
    "### Uninstalling Packages"
   ]
  },
  {
   "cell_type": "code",
   "execution_count": null,
   "id": "f87f0146",
   "metadata": {},
   "outputs": [],
   "source": [
    "#Sebelum kalian menghapus paket, pastikan kalian menjalankan perintah show untuk package tersebut:\n",
    "pip show requests\n",
    "#Perhatikan dua kolom terakhir Requires dan Required-by.\n",
    "#Perintah show memberi tahu kita bahwa requests membutuhkan urllib3, certifi, chardet, dan idna.\n",
    "#Kalian mungkin ingin menghapus keduanya. Kalian juga dapat melihat bahwa requests tidak diperlukan oleh paket lain, jadi aman untuk menghapusnya."
   ]
  },
  {
   "cell_type": "code",
   "execution_count": null,
   "id": "fd55d35f",
   "metadata": {},
   "outputs": [],
   "source": [
    "#Kalian harus menjalankan perintah show terhadap semua dependensi permintaan untuk memastikan tidak ada library lain yang juga bergantung padanya.\n",
    "#Setelah kalian memahami urutan ketergantungan paket yang ingin kalian copot pemasangannya, kalian dapat menghapusnya menggunakan perintah uninstall:\n",
    "pip uninstall certifi"
   ]
  },
  {
   "cell_type": "code",
   "execution_count": null,
   "id": "45273867",
   "metadata": {},
   "outputs": [],
   "source": [
    "#Menghapus instalan paket menunjukkan kepada kalian file yang akan dihapus dan akan meminta konfirmasi.\n",
    "#Jika kalian yakin ingin menghapus paket karena kalian telah memeriksa dependensinya dan mengetahui bahwa tidak ada orang lain yang menggunakannya, kalian dapat meneruskan -y untuk menyembunyikan daftar file dan konfirmasi:\n",
    "pip uninstall urllib3 -y"
   ]
  }
 ],
 "metadata": {
  "kernelspec": {
   "display_name": "Python 3",
   "language": "python",
   "name": "python3"
  },
  "language_info": {
   "codemirror_mode": {
    "name": "ipython",
    "version": 3
   },
   "file_extension": ".py",
   "mimetype": "text/x-python",
   "name": "python",
   "nbconvert_exporter": "python",
   "pygments_lexer": "ipython3",
   "version": "3.8.8"
  }
 },
 "nbformat": 4,
 "nbformat_minor": 5
}
